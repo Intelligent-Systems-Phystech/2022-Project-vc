{
 "cells": [
  {
   "cell_type": "raw",
   "id": "19e0fd34-ab70-4ae8-88c9-d9745b058f5b",
   "metadata": {},
   "source": [
    "!pip install transformers"
   ]
  },
  {
   "cell_type": "code",
   "execution_count": 3,
   "id": "10bd87c0-f896-4d89-b67c-66c45b337154",
   "metadata": {},
   "outputs": [],
   "source": [
    "import pandas as pd\n",
    "import numpy as np\n",
    "\n",
    "from nltk.stem import PorterStemmer\n",
    "# LaBSE\n",
    "from transformers import AutoTokenizer, AutoModel\n",
    "# facebook/bart-base\n",
    "from transformers import BartTokenizer, BartModel\n",
    "\n",
    "import torch\n",
    "import plotly.express as px\n",
    "import datetime"
   ]
  },
  {
   "cell_type": "markdown",
   "id": "daff794b-34c4-4d6d-9135-bccf5ae9cfa3",
   "metadata": {},
   "source": [
    "# Генерация эмбеддингов для строк"
   ]
  },
  {
   "cell_type": "code",
   "execution_count": 4,
   "id": "7cd0b3ae-17a2-4cb4-b454-707fd08d96f6",
   "metadata": {},
   "outputs": [
    {
     "name": "stdout",
     "output_type": "stream",
     "text": [
      "2022-03-13 22:24:32.190136\n"
     ]
    }
   ],
   "source": [
    "print(datetime.datetime.now())"
   ]
  },
  {
   "cell_type": "markdown",
   "id": "66732715-96c2-46a6-a360-3debc869ec09",
   "metadata": {},
   "source": [
    "## JSON to DataFrame"
   ]
  },
  {
   "cell_type": "code",
   "execution_count": 26,
   "id": "1fa5d075-2711-48e4-9b95-31fc177f5c49",
   "metadata": {},
   "outputs": [
    {
     "name": "stdout",
     "output_type": "stream",
     "text": [
      "2022-03-12 00:18:14.228308\n",
      "DataFrame educations size : 3663\n",
      "DataFrame experiences size : 12792\n",
      "DataFrame skills size : 25195\n"
     ]
    }
   ],
   "source": [
    "!python data.py"
   ]
  },
  {
   "cell_type": "markdown",
   "id": "574c81dc-a9c6-4fbe-9e43-5daddadd8850",
   "metadata": {},
   "source": [
    "## Загрузка данных"
   ]
  },
  {
   "cell_type": "code",
   "execution_count": 5,
   "id": "8fd22e1d-329d-4824-bced-b187a68e3122",
   "metadata": {},
   "outputs": [],
   "source": [
    "df_education = pd.read_csv('data/uuid_x_education_fields.csv', index_col=0)"
   ]
  },
  {
   "cell_type": "code",
   "execution_count": 6,
   "id": "7dbc954b-4227-4bd5-86ca-11b38eeffa2e",
   "metadata": {},
   "outputs": [
    {
     "data": {
      "text/html": [
       "<div>\n",
       "<style scoped>\n",
       "    .dataframe tbody tr th:only-of-type {\n",
       "        vertical-align: middle;\n",
       "    }\n",
       "\n",
       "    .dataframe tbody tr th {\n",
       "        vertical-align: top;\n",
       "    }\n",
       "\n",
       "    .dataframe thead th {\n",
       "        text-align: right;\n",
       "    }\n",
       "</style>\n",
       "<table border=\"1\" class=\"dataframe\">\n",
       "  <thead>\n",
       "    <tr style=\"text-align: right;\">\n",
       "      <th></th>\n",
       "      <th>org_uuid</th>\n",
       "      <th>education_school_name</th>\n",
       "      <th>education_field_of_study</th>\n",
       "      <th>education_description</th>\n",
       "      <th>education_degree</th>\n",
       "      <th>education_start_date_year</th>\n",
       "      <th>education_end_date</th>\n",
       "      <th>education_school_link</th>\n",
       "    </tr>\n",
       "  </thead>\n",
       "  <tbody>\n",
       "    <tr>\n",
       "      <th>0</th>\n",
       "      <td>438c7e89-ba0c-b8cc-7ea6-1a0ac47ae40d</td>\n",
       "      <td>Davidson College</td>\n",
       "      <td>English</td>\n",
       "      <td>NaN</td>\n",
       "      <td>BA</td>\n",
       "      <td>NaN</td>\n",
       "      <td>NaN</td>\n",
       "      <td>https://www.linkedin.com/school/davidson-college/</td>\n",
       "    </tr>\n",
       "    <tr>\n",
       "      <th>0</th>\n",
       "      <td>438c7e89-ba0c-b8cc-7ea6-1a0ac47ae40d</td>\n",
       "      <td>Queen Mary University of London</td>\n",
       "      <td>English, History</td>\n",
       "      <td>Semester study abroad experience.</td>\n",
       "      <td>NaN</td>\n",
       "      <td>NaN</td>\n",
       "      <td>NaN</td>\n",
       "      <td>https://www.linkedin.com/school/queen-mary-uni...</td>\n",
       "    </tr>\n",
       "    <tr>\n",
       "      <th>0</th>\n",
       "      <td>b37187f2-8ad4-8225-cfa2-2757f2ef9bc4</td>\n",
       "      <td>Kyungpook National University</td>\n",
       "      <td>Electrical, Electronics and Communications Eng...</td>\n",
       "      <td>NaN</td>\n",
       "      <td>Bachelor of Science (BS)</td>\n",
       "      <td>1985.0</td>\n",
       "      <td>1989</td>\n",
       "      <td>https://www.linkedin.com/school/%EA%B2%BD%EB%B...</td>\n",
       "    </tr>\n",
       "    <tr>\n",
       "      <th>0</th>\n",
       "      <td>75e76c56-3026-404d-079d-be335a63d9ff</td>\n",
       "      <td>Highline College</td>\n",
       "      <td>NaN</td>\n",
       "      <td>Undergraduate Studies, One Year \\nTechnology S...</td>\n",
       "      <td>NaN</td>\n",
       "      <td>NaN</td>\n",
       "      <td>NaN</td>\n",
       "      <td>https://www.linkedin.com/school/highline-college/</td>\n",
       "    </tr>\n",
       "    <tr>\n",
       "      <th>0</th>\n",
       "      <td>75e76c56-3026-404d-079d-be335a63d9ff</td>\n",
       "      <td>Highline Community Collage</td>\n",
       "      <td>NaN</td>\n",
       "      <td>NaN</td>\n",
       "      <td>NaN</td>\n",
       "      <td>NaN</td>\n",
       "      <td>NaN</td>\n",
       "      <td>NaN</td>\n",
       "    </tr>\n",
       "  </tbody>\n",
       "</table>\n",
       "</div>"
      ],
      "text/plain": [
       "                               org_uuid            education_school_name  \\\n",
       "0  438c7e89-ba0c-b8cc-7ea6-1a0ac47ae40d                 Davidson College   \n",
       "0  438c7e89-ba0c-b8cc-7ea6-1a0ac47ae40d  Queen Mary University of London   \n",
       "0  b37187f2-8ad4-8225-cfa2-2757f2ef9bc4    Kyungpook National University   \n",
       "0  75e76c56-3026-404d-079d-be335a63d9ff                 Highline College   \n",
       "0  75e76c56-3026-404d-079d-be335a63d9ff       Highline Community Collage   \n",
       "\n",
       "                            education_field_of_study  \\\n",
       "0                                            English   \n",
       "0                                   English, History   \n",
       "0  Electrical, Electronics and Communications Eng...   \n",
       "0                                                NaN   \n",
       "0                                                NaN   \n",
       "\n",
       "                               education_description  \\\n",
       "0                                                NaN   \n",
       "0                  Semester study abroad experience.   \n",
       "0                                                NaN   \n",
       "0  Undergraduate Studies, One Year \\nTechnology S...   \n",
       "0                                                NaN   \n",
       "\n",
       "           education_degree  education_start_date_year education_end_date  \\\n",
       "0                        BA                        NaN                NaN   \n",
       "0                       NaN                        NaN                NaN   \n",
       "0  Bachelor of Science (BS)                     1985.0               1989   \n",
       "0                       NaN                        NaN                NaN   \n",
       "0                       NaN                        NaN                NaN   \n",
       "\n",
       "                               education_school_link  \n",
       "0  https://www.linkedin.com/school/davidson-college/  \n",
       "0  https://www.linkedin.com/school/queen-mary-uni...  \n",
       "0  https://www.linkedin.com/school/%EA%B2%BD%EB%B...  \n",
       "0  https://www.linkedin.com/school/highline-college/  \n",
       "0                                                NaN  "
      ]
     },
     "execution_count": 6,
     "metadata": {},
     "output_type": "execute_result"
    }
   ],
   "source": [
    "df_education.head(5)"
   ]
  },
  {
   "cell_type": "markdown",
   "id": "15acdd76-ddcf-47c9-9685-5df0c1f57e94",
   "metadata": {},
   "source": [
    "## Facebook/bart-base"
   ]
  },
  {
   "cell_type": "raw",
   "id": "8f7cfcd1-ef5c-4288-8354-f6fc65d890c1",
   "metadata": {},
   "source": [
    "tokenizer = BartTokenizer.from_pretrained('facebook/bart-base')\n",
    "model = BartModel.from_pretrained('facebook/bart-base')\n",
    "\n",
    "encoded_input = tokenizer(\"Computer Sciense\", padding=True, truncation=True, max_length=64, return_tensors=\"pt\")\n",
    "\n",
    "with torch.no_grad():\n",
    "    model_output = model(**encoded_input)\n",
    "    \n",
    "embeddings = model_output.last_hidden_state\n",
    "tensor = torch.nn.functional.normalize(embeddings)\n",
    "\n",
    "array = tensor.cpu().detach().numpy()\n",
    "print(array.shape)\n",
    "\n",
    "array[0].shape"
   ]
  },
  {
   "cell_type": "raw",
   "id": "d9eafeb2-fb7a-49a6-b31a-1f231a45f879",
   "metadata": {},
   "source": [
    "encoded_input = tokenizer(\"English\", padding=True, truncation=True, max_length=64, return_tensors='pt')\n",
    "\n",
    "with torch.no_grad():\n",
    "    model_output = model(**encoded_input)\n",
    "\n",
    "embeddings = model_output.last_hidden_state\n",
    "\n",
    "np.array(embeddings[0].shape)"
   ]
  },
  {
   "cell_type": "raw",
   "id": "129f6485-db73-4300-9c08-d6f19b77b324",
   "metadata": {},
   "source": [
    "def get_bart_base_embeddings(df_education):\n",
    "    \n",
    "    tokenizer = AutoTokenizer.from_pretrained(\"facebook/bart-base\")\n",
    "    model = AutoModel.from_pretrained(\"facebook/bart-base\")\n",
    "\n",
    "    embedding_vec = []\n",
    "    df_education_study = df_education[['education_field_of_study', 'education_school_name']].drop_duplicates().reset_index(drop=True)\n",
    "\n",
    "    for i, row in enumerate(df_education_study['education_field_of_study']):\n",
    "        \n",
    "        print('{} / {}'.format(i+1, df_education_study.shape[0]), end=\"\\r\")\n",
    "\n",
    "        embeddings = []\n",
    "\n",
    "        if row == row:\n",
    "            encoded_input = tokenizer(row, padding=True, truncation=True, max_length=64, return_tensors='pt')\n",
    "\n",
    "            with torch.no_grad():\n",
    "                model_output = model(**encoded_input)\n",
    "\n",
    "            embeddings = model_output.pooler_output\n",
    "\n",
    "        embedding_vec.extend(np.array(embeddings))\n",
    "\n",
    "    df_embeddings = pd.DataFrame(embedding_vec)\n",
    "    \n",
    "    df_embeddings = pd.concat(\n",
    "        [\n",
    "            df_embeddings, \n",
    "            df_education_study\n",
    "        ], axis=1\n",
    "    )\n",
    "    \n",
    "    return df_embeddings"
   ]
  },
  {
   "cell_type": "raw",
   "id": "cbcad51f-268c-44c4-aa36-c459562979fb",
   "metadata": {},
   "source": [
    "df_education = pd.read_csv('data/uuid_x_education_fields.csv', index_col=0)\n",
    "df_embeddings = get_bart_base_embeddings(df_education)"
   ]
  },
  {
   "cell_type": "raw",
   "id": "b1535679-0f20-4b7a-a8e6-8b6e34325069",
   "metadata": {},
   "source": [
    "df_embeddings"
   ]
  },
  {
   "cell_type": "markdown",
   "id": "a5442e84-b500-4364-8014-b563205a3d4c",
   "metadata": {},
   "source": [
    "## cointegrated/LaBSE-en-ru"
   ]
  },
  {
   "cell_type": "markdown",
   "id": "4f921523-43b5-4d25-a100-0836eafca577",
   "metadata": {},
   "source": [
    "https://huggingface.co/cointegrated/LaBSE-en-ru"
   ]
  },
  {
   "cell_type": "code",
   "execution_count": 48,
   "id": "0dc5c760-8771-4611-b116-714f2dfa6b9d",
   "metadata": {},
   "outputs": [],
   "source": [
    "def get_education_embeddings(df_education):\n",
    "    \n",
    "    tokenizer = AutoTokenizer.from_pretrained(\"cointegrated/LaBSE-en-ru\")\n",
    "    model = AutoModel.from_pretrained(\"cointegrated/LaBSE-en-ru\")\n",
    "\n",
    "    embedding_vec = []\n",
    "    df_education_study = df_education[~df_education['education_field_of_study'].isna()][['education_field_of_study']].drop_duplicates().reset_index(drop=True)\n",
    "\n",
    "    for i, row in enumerate(df_education_study['education_field_of_study']):\n",
    "        \n",
    "        print('{} / {}'.format(i+1, df_education_study.shape[0]), end=\"\\r\")\n",
    "\n",
    "        embeddings = []\n",
    "\n",
    "        if row == row:\n",
    "            encoded_input = tokenizer(row, padding=True, truncation=True, max_length=64, return_tensors='pt')\n",
    "\n",
    "            with torch.no_grad():\n",
    "                model_output = model(**encoded_input)\n",
    "\n",
    "            embeddings = model_output.pooler_output\n",
    "            #embeddings = torch.nn.functional.normalize(embeddings)\n",
    "\n",
    "        embedding_vec.extend(np.array(embeddings))\n",
    "\n",
    "    df_embeddings = pd.DataFrame(embedding_vec)\n",
    "    \n",
    "    df_embeddings = pd.concat(\n",
    "        [\n",
    "            df_embeddings, \n",
    "            df_education_study\n",
    "        ], axis=1\n",
    "    )\n",
    "    \n",
    "    return df_embeddings"
   ]
  },
  {
   "cell_type": "code",
   "execution_count": 49,
   "id": "f61bca97-8899-47ec-b448-106461bfa657",
   "metadata": {},
   "outputs": [
    {
     "name": "stderr",
     "output_type": "stream",
     "text": [
      "Some weights of the model checkpoint at cointegrated/LaBSE-en-ru were not used when initializing BertModel: ['cls.predictions.transform.LayerNorm.weight', 'cls.predictions.decoder.bias', 'cls.predictions.decoder.weight', 'cls.predictions.transform.LayerNorm.bias', 'cls.predictions.bias', 'cls.predictions.transform.dense.bias', 'cls.seq_relationship.bias', 'cls.seq_relationship.weight', 'cls.predictions.transform.dense.weight']\n",
      "- This IS expected if you are initializing BertModel from the checkpoint of a model trained on another task or with another architecture (e.g. initializing a BertForSequenceClassification model from a BertForPreTraining model).\n",
      "- This IS NOT expected if you are initializing BertModel from the checkpoint of a model that you expect to be exactly identical (initializing a BertForSequenceClassification model from a BertForSequenceClassification model).\n"
     ]
    },
    {
     "name": "stdout",
     "output_type": "stream",
     "text": [
      "1231 / 1231\r"
     ]
    }
   ],
   "source": [
    "df_education = pd.read_csv('data/uuid_x_education_fields.csv', index_col=0)\n",
    "df_embeddings = get_education_embeddings(df_education)\n",
    "df_embeddings.to_csv('data/embeddings/education_field_of_study.csv')"
   ]
  },
  {
   "cell_type": "code",
   "execution_count": null,
   "id": "bf864033-00c7-40d3-a95f-e494226343cb",
   "metadata": {},
   "outputs": [],
   "source": []
  }
 ],
 "metadata": {
  "kernelspec": {
   "display_name": "Python 3",
   "language": "python",
   "name": "python3"
  },
  "language_info": {
   "codemirror_mode": {
    "name": "ipython",
    "version": 3
   },
   "file_extension": ".py",
   "mimetype": "text/x-python",
   "name": "python",
   "nbconvert_exporter": "python",
   "pygments_lexer": "ipython3",
   "version": "3.8.8"
  }
 },
 "nbformat": 4,
 "nbformat_minor": 5
}
