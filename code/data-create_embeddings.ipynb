{
 "cells": [
  {
   "cell_type": "raw",
   "id": "19e0fd34-ab70-4ae8-88c9-d9745b058f5b",
   "metadata": {},
   "source": [
    "!pip install transformers"
   ]
  },
  {
   "cell_type": "code",
   "execution_count": 1,
   "id": "10bd87c0-f896-4d89-b67c-66c45b337154",
   "metadata": {},
   "outputs": [],
   "source": [
    "import pandas as pd\n",
    "import numpy as np\n",
    "\n",
    "from nltk.stem import PorterStemmer\n",
    "\n",
    "import torch\n",
    "from transformers import AutoTokenizer, AutoModel\n",
    "import plotly.express as px\n",
    "import datetime"
   ]
  },
  {
   "cell_type": "markdown",
   "id": "daff794b-34c4-4d6d-9135-bccf5ae9cfa3",
   "metadata": {},
   "source": [
    "# Генерация эмбеддингов для строк"
   ]
  },
  {
   "cell_type": "code",
   "execution_count": 2,
   "id": "7cd0b3ae-17a2-4cb4-b454-707fd08d96f6",
   "metadata": {},
   "outputs": [
    {
     "name": "stdout",
     "output_type": "stream",
     "text": [
      "2022-03-09 01:43:53.519274\n"
     ]
    }
   ],
   "source": [
    "print(datetime.datetime.now())"
   ]
  },
  {
   "cell_type": "markdown",
   "id": "574c81dc-a9c6-4fbe-9e43-5daddadd8850",
   "metadata": {},
   "source": [
    "## Загрузка данных"
   ]
  },
  {
   "cell_type": "code",
   "execution_count": 3,
   "id": "8fd22e1d-329d-4824-bced-b187a68e3122",
   "metadata": {},
   "outputs": [],
   "source": [
    "df_education = pd.read_csv('data/uuid_x_education_fields.csv', index_col=0)"
   ]
  },
  {
   "cell_type": "markdown",
   "id": "a5442e84-b500-4364-8014-b563205a3d4c",
   "metadata": {},
   "source": [
    "## LaBSE"
   ]
  },
  {
   "cell_type": "code",
   "execution_count": 9,
   "id": "5fe6d236-c900-49bd-92b4-85699af55375",
   "metadata": {},
   "outputs": [
    {
     "name": "stderr",
     "output_type": "stream",
     "text": [
      "Some weights of the model checkpoint at cointegrated/LaBSE-en-ru were not used when initializing BertModel: ['cls.predictions.decoder.weight', 'cls.seq_relationship.weight', 'cls.predictions.transform.LayerNorm.bias', 'cls.predictions.transform.dense.bias', 'cls.predictions.decoder.bias', 'cls.predictions.transform.LayerNorm.weight', 'cls.predictions.bias', 'cls.seq_relationship.bias', 'cls.predictions.transform.dense.weight']\n",
      "- This IS expected if you are initializing BertModel from the checkpoint of a model trained on another task or with another architecture (e.g. initializing a BertForSequenceClassification model from a BertForPreTraining model).\n",
      "- This IS NOT expected if you are initializing BertModel from the checkpoint of a model that you expect to be exactly identical (initializing a BertForSequenceClassification model from a BertForSequenceClassification model).\n"
     ]
    },
    {
     "name": "stdout",
     "output_type": "stream",
     "text": [
      "tensor([[-0.0714, -0.0772, -0.0305,  ...,  0.0136, -0.0402, -0.0245],\n",
      "        [-0.0644, -0.0687, -0.0521,  ...,  0.0139, -0.0362, -0.0213]])\n"
     ]
    }
   ],
   "source": [
    "tokenizer = AutoTokenizer.from_pretrained(\"cointegrated/LaBSE-en-ru\")\n",
    "model = AutoModel.from_pretrained(\"cointegrated/LaBSE-en-ru\")\n",
    "\n",
    "sentences = [\"Hello World\", \"Привет Мир\"]\n",
    "encoded_input = tokenizer(sentences, padding=True, truncation=True, max_length=64, return_tensors='pt')\n",
    "\n",
    "with torch.no_grad():\n",
    "    model_output = model(**encoded_input)\n",
    "    \n",
    "embeddings = model_output.pooler_output\n",
    "embeddings = torch.nn.functional.normalize(embeddings)\n",
    "print(embeddings)"
   ]
  },
  {
   "cell_type": "markdown",
   "id": "4f921523-43b5-4d25-a100-0836eafca577",
   "metadata": {},
   "source": [
    "https://huggingface.co/cointegrated/LaBSE-en-ru"
   ]
  },
  {
   "cell_type": "code",
   "execution_count": 4,
   "id": "0dc5c760-8771-4611-b116-714f2dfa6b9d",
   "metadata": {},
   "outputs": [],
   "source": [
    "def get_education_enbeddings(df_education):\n",
    "    \n",
    "    tokenizer = AutoTokenizer.from_pretrained(\"cointegrated/LaBSE-en-ru\")\n",
    "    model = AutoModel.from_pretrained(\"cointegrated/LaBSE-en-ru\")\n",
    "\n",
    "    embedding_vec = []\n",
    "    df_education_study = df_education[['education_field_of_study', 'education_school_name']].drop_duplicates().reset_index(drop=True)\n",
    "\n",
    "    for i, row in enumerate(df_education_study['education_field_of_study']):\n",
    "        \n",
    "        print('{} / {}'.format(i+1, df_education_study.shape[0]), end=\"\\r\")\n",
    "\n",
    "        embeddings = []\n",
    "\n",
    "        if row == row:\n",
    "            encoded_input = tokenizer(row, padding=True, truncation=True, max_length=64, return_tensors='pt')\n",
    "\n",
    "            with torch.no_grad():\n",
    "                model_output = model(**encoded_input)\n",
    "\n",
    "            embeddings = model_output.pooler_output\n",
    "            embeddings = torch.nn.functional.normalize(embeddings)\n",
    "\n",
    "        embedding_vec.extend(np.array(embeddings))\n",
    "\n",
    "    df_embeddings = pd.DataFrame(embedding_vec)\n",
    "    \n",
    "    df_embeddings = pd.concat(\n",
    "        [\n",
    "            df_embeddings, \n",
    "            df_education_study\n",
    "        ], axis=1\n",
    "    )\n",
    "    \n",
    "    return df_embeddings"
   ]
  },
  {
   "cell_type": "code",
   "execution_count": 5,
   "id": "949db69a-e98b-48c1-ba4c-274237d127fb",
   "metadata": {},
   "outputs": [
    {
     "name": "stderr",
     "output_type": "stream",
     "text": [
      "Some weights of the model checkpoint at cointegrated/LaBSE-en-ru were not used when initializing BertModel: ['cls.predictions.decoder.weight', 'cls.seq_relationship.weight', 'cls.predictions.transform.LayerNorm.bias', 'cls.predictions.transform.dense.bias', 'cls.predictions.decoder.bias', 'cls.predictions.transform.LayerNorm.weight', 'cls.predictions.bias', 'cls.seq_relationship.bias', 'cls.predictions.transform.dense.weight']\n",
      "- This IS expected if you are initializing BertModel from the checkpoint of a model trained on another task or with another architecture (e.g. initializing a BertForSequenceClassification model from a BertForPreTraining model).\n",
      "- This IS NOT expected if you are initializing BertModel from the checkpoint of a model that you expect to be exactly identical (initializing a BertForSequenceClassification model from a BertForSequenceClassification model).\n"
     ]
    },
    {
     "name": "stdout",
     "output_type": "stream",
     "text": [
      "2997 / 2997\r"
     ]
    }
   ],
   "source": [
    "df_embeddings = get_education_enbeddings(df_education)\n",
    "df_embeddings.to_csv('data/embeddings/education_field_of_study.csv')"
   ]
  },
  {
   "cell_type": "code",
   "execution_count": 27,
   "id": "6702b986-dd0b-4199-9a02-d8ef725ae8f8",
   "metadata": {},
   "outputs": [],
   "source": [
    "df_embeddings = pd.read_csv('data/embeddings/education_field_of_study.csv', index_col=0)\n",
    "vec_embedding = df_embeddings.loc[:, ~df_embeddings.columns.isin(\n",
    "    ['education_field_of_study', 'education_school_name']\n",
    ")]"
   ]
  },
  {
   "cell_type": "code",
   "execution_count": 29,
   "id": "54e1bed8-eafe-4a5c-a4bf-c5991bab9703",
   "metadata": {},
   "outputs": [
    {
     "data": {
      "text/html": [
       "<div>\n",
       "<style scoped>\n",
       "    .dataframe tbody tr th:only-of-type {\n",
       "        vertical-align: middle;\n",
       "    }\n",
       "\n",
       "    .dataframe tbody tr th {\n",
       "        vertical-align: top;\n",
       "    }\n",
       "\n",
       "    .dataframe thead th {\n",
       "        text-align: right;\n",
       "    }\n",
       "</style>\n",
       "<table border=\"1\" class=\"dataframe\">\n",
       "  <thead>\n",
       "    <tr style=\"text-align: right;\">\n",
       "      <th></th>\n",
       "      <th>org_uuid</th>\n",
       "      <th>education_school_name</th>\n",
       "      <th>education_field_of_study</th>\n",
       "      <th>education_description</th>\n",
       "      <th>education_degree</th>\n",
       "      <th>education_start_date_year</th>\n",
       "      <th>education_end_date</th>\n",
       "      <th>education_school_link</th>\n",
       "    </tr>\n",
       "  </thead>\n",
       "  <tbody>\n",
       "    <tr>\n",
       "      <th>0</th>\n",
       "      <td>438c7e89-ba0c-b8cc-7ea6-1a0ac47ae40d</td>\n",
       "      <td>Davidson College</td>\n",
       "      <td>English</td>\n",
       "      <td>NaN</td>\n",
       "      <td>BA</td>\n",
       "      <td>NaN</td>\n",
       "      <td>NaN</td>\n",
       "      <td>https://www.linkedin.com/school/davidson-college/</td>\n",
       "    </tr>\n",
       "    <tr>\n",
       "      <th>0</th>\n",
       "      <td>438c7e89-ba0c-b8cc-7ea6-1a0ac47ae40d</td>\n",
       "      <td>Queen Mary University of London</td>\n",
       "      <td>English, History</td>\n",
       "      <td>Semester study abroad experience.</td>\n",
       "      <td>NaN</td>\n",
       "      <td>NaN</td>\n",
       "      <td>NaN</td>\n",
       "      <td>https://www.linkedin.com/school/queen-mary-uni...</td>\n",
       "    </tr>\n",
       "    <tr>\n",
       "      <th>0</th>\n",
       "      <td>b37187f2-8ad4-8225-cfa2-2757f2ef9bc4</td>\n",
       "      <td>Kyungpook National University</td>\n",
       "      <td>Electrical, Electronics and Communications Eng...</td>\n",
       "      <td>NaN</td>\n",
       "      <td>Bachelor of Science (BS)</td>\n",
       "      <td>1985.0</td>\n",
       "      <td>1989</td>\n",
       "      <td>https://www.linkedin.com/school/%EA%B2%BD%EB%B...</td>\n",
       "    </tr>\n",
       "    <tr>\n",
       "      <th>0</th>\n",
       "      <td>75e76c56-3026-404d-079d-be335a63d9ff</td>\n",
       "      <td>Highline College</td>\n",
       "      <td>NaN</td>\n",
       "      <td>Undergraduate Studies, One Year \\nTechnology S...</td>\n",
       "      <td>NaN</td>\n",
       "      <td>NaN</td>\n",
       "      <td>NaN</td>\n",
       "      <td>https://www.linkedin.com/school/highline-college/</td>\n",
       "    </tr>\n",
       "    <tr>\n",
       "      <th>0</th>\n",
       "      <td>75e76c56-3026-404d-079d-be335a63d9ff</td>\n",
       "      <td>Highline Community Collage</td>\n",
       "      <td>NaN</td>\n",
       "      <td>NaN</td>\n",
       "      <td>NaN</td>\n",
       "      <td>NaN</td>\n",
       "      <td>NaN</td>\n",
       "      <td>NaN</td>\n",
       "    </tr>\n",
       "    <tr>\n",
       "      <th>...</th>\n",
       "      <td>...</td>\n",
       "      <td>...</td>\n",
       "      <td>...</td>\n",
       "      <td>...</td>\n",
       "      <td>...</td>\n",
       "      <td>...</td>\n",
       "      <td>...</td>\n",
       "      <td>...</td>\n",
       "    </tr>\n",
       "    <tr>\n",
       "      <th>0</th>\n",
       "      <td>3a372b39-86d8-a24e-9fea-3be65013b476</td>\n",
       "      <td>Harpur College</td>\n",
       "      <td>Political Behavior</td>\n",
       "      <td>NaN</td>\n",
       "      <td>Bachelor of Arts - BA</td>\n",
       "      <td>1959.0</td>\n",
       "      <td>1963</td>\n",
       "      <td>NaN</td>\n",
       "    </tr>\n",
       "    <tr>\n",
       "      <th>0</th>\n",
       "      <td>fcc72760-5eb8-a34e-718a-5f0e02ec916f</td>\n",
       "      <td>University of Florida College of Medicine</td>\n",
       "      <td>NaN</td>\n",
       "      <td>NaN</td>\n",
       "      <td>Doctor of Medicine (M.D.)</td>\n",
       "      <td>NaN</td>\n",
       "      <td>NaN</td>\n",
       "      <td>https://www.linkedin.com/school/university-of-...</td>\n",
       "    </tr>\n",
       "    <tr>\n",
       "      <th>0</th>\n",
       "      <td>fcc72760-5eb8-a34e-718a-5f0e02ec916f</td>\n",
       "      <td>University of Virginia</td>\n",
       "      <td>NaN</td>\n",
       "      <td>NaN</td>\n",
       "      <td>Bachelor's degree</td>\n",
       "      <td>NaN</td>\n",
       "      <td>NaN</td>\n",
       "      <td>https://www.linkedin.com/school/university-of-...</td>\n",
       "    </tr>\n",
       "    <tr>\n",
       "      <th>0</th>\n",
       "      <td>fcc72760-5eb8-a34e-718a-5f0e02ec916f</td>\n",
       "      <td>Yale School of Management</td>\n",
       "      <td>NaN</td>\n",
       "      <td>NaN</td>\n",
       "      <td>MBA</td>\n",
       "      <td>NaN</td>\n",
       "      <td>NaN</td>\n",
       "      <td>https://www.linkedin.com/school/yale-school-of...</td>\n",
       "    </tr>\n",
       "    <tr>\n",
       "      <th>0</th>\n",
       "      <td>8754aa07-6a53-aea5-fd0a-6f82c9191d1d</td>\n",
       "      <td>University of Cambridge</td>\n",
       "      <td>Computer Science (1st class)</td>\n",
       "      <td>NaN</td>\n",
       "      <td>MA</td>\n",
       "      <td>1993.0</td>\n",
       "      <td>1996</td>\n",
       "      <td>https://www.linkedin.com/school/university-of-...</td>\n",
       "    </tr>\n",
       "  </tbody>\n",
       "</table>\n",
       "<p>3663 rows × 8 columns</p>\n",
       "</div>"
      ],
      "text/plain": [
       "                                org_uuid  \\\n",
       "0   438c7e89-ba0c-b8cc-7ea6-1a0ac47ae40d   \n",
       "0   438c7e89-ba0c-b8cc-7ea6-1a0ac47ae40d   \n",
       "0   b37187f2-8ad4-8225-cfa2-2757f2ef9bc4   \n",
       "0   75e76c56-3026-404d-079d-be335a63d9ff   \n",
       "0   75e76c56-3026-404d-079d-be335a63d9ff   \n",
       "..                                   ...   \n",
       "0   3a372b39-86d8-a24e-9fea-3be65013b476   \n",
       "0   fcc72760-5eb8-a34e-718a-5f0e02ec916f   \n",
       "0   fcc72760-5eb8-a34e-718a-5f0e02ec916f   \n",
       "0   fcc72760-5eb8-a34e-718a-5f0e02ec916f   \n",
       "0   8754aa07-6a53-aea5-fd0a-6f82c9191d1d   \n",
       "\n",
       "                        education_school_name  \\\n",
       "0                            Davidson College   \n",
       "0             Queen Mary University of London   \n",
       "0               Kyungpook National University   \n",
       "0                            Highline College   \n",
       "0                  Highline Community Collage   \n",
       "..                                        ...   \n",
       "0                              Harpur College   \n",
       "0   University of Florida College of Medicine   \n",
       "0                      University of Virginia   \n",
       "0                   Yale School of Management   \n",
       "0                     University of Cambridge   \n",
       "\n",
       "                             education_field_of_study  \\\n",
       "0                                             English   \n",
       "0                                    English, History   \n",
       "0   Electrical, Electronics and Communications Eng...   \n",
       "0                                                 NaN   \n",
       "0                                                 NaN   \n",
       "..                                                ...   \n",
       "0                                  Political Behavior   \n",
       "0                                                 NaN   \n",
       "0                                                 NaN   \n",
       "0                                                 NaN   \n",
       "0                        Computer Science (1st class)   \n",
       "\n",
       "                                education_description  \\\n",
       "0                                                 NaN   \n",
       "0                   Semester study abroad experience.   \n",
       "0                                                 NaN   \n",
       "0   Undergraduate Studies, One Year \\nTechnology S...   \n",
       "0                                                 NaN   \n",
       "..                                                ...   \n",
       "0                                                 NaN   \n",
       "0                                                 NaN   \n",
       "0                                                 NaN   \n",
       "0                                                 NaN   \n",
       "0                                                 NaN   \n",
       "\n",
       "             education_degree  education_start_date_year education_end_date  \\\n",
       "0                          BA                        NaN                NaN   \n",
       "0                         NaN                        NaN                NaN   \n",
       "0    Bachelor of Science (BS)                     1985.0               1989   \n",
       "0                         NaN                        NaN                NaN   \n",
       "0                         NaN                        NaN                NaN   \n",
       "..                        ...                        ...                ...   \n",
       "0       Bachelor of Arts - BA                     1959.0               1963   \n",
       "0   Doctor of Medicine (M.D.)                        NaN                NaN   \n",
       "0           Bachelor's degree                        NaN                NaN   \n",
       "0                         MBA                        NaN                NaN   \n",
       "0                          MA                     1993.0               1996   \n",
       "\n",
       "                                education_school_link  \n",
       "0   https://www.linkedin.com/school/davidson-college/  \n",
       "0   https://www.linkedin.com/school/queen-mary-uni...  \n",
       "0   https://www.linkedin.com/school/%EA%B2%BD%EB%B...  \n",
       "0   https://www.linkedin.com/school/highline-college/  \n",
       "0                                                 NaN  \n",
       "..                                                ...  \n",
       "0                                                 NaN  \n",
       "0   https://www.linkedin.com/school/university-of-...  \n",
       "0   https://www.linkedin.com/school/university-of-...  \n",
       "0   https://www.linkedin.com/school/yale-school-of...  \n",
       "0   https://www.linkedin.com/school/university-of-...  \n",
       "\n",
       "[3663 rows x 8 columns]"
      ]
     },
     "execution_count": 29,
     "metadata": {},
     "output_type": "execute_result"
    }
   ],
   "source": [
    "df_education"
   ]
  },
  {
   "cell_type": "code",
   "execution_count": null,
   "id": "bf864033-00c7-40d3-a95f-e494226343cb",
   "metadata": {},
   "outputs": [],
   "source": []
  }
 ],
 "metadata": {
  "kernelspec": {
   "display_name": "Python 3",
   "language": "python",
   "name": "python3"
  },
  "language_info": {
   "codemirror_mode": {
    "name": "ipython",
    "version": 3
   },
   "file_extension": ".py",
   "mimetype": "text/x-python",
   "name": "python",
   "nbconvert_exporter": "python",
   "pygments_lexer": "ipython3",
   "version": "3.8.8"
  }
 },
 "nbformat": 4,
 "nbformat_minor": 5
}
