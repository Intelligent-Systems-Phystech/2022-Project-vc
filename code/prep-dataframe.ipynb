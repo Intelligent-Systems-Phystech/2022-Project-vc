{
 "cells": [
  {
   "cell_type": "code",
   "execution_count": 2,
   "id": "67a818e1-1b28-43a4-8550-913fd4ad073c",
   "metadata": {},
   "outputs": [],
   "source": [
    "import pandas as pd\n",
    "import numpy as np\n",
    "import plotly.express as px\n",
    "import copy\n",
    "import datetime"
   ]
  },
  {
   "cell_type": "markdown",
   "id": "1bf9d970-4b91-4cb1-86b0-a2d983fac355",
   "metadata": {},
   "source": [
    "# Сборка датафрейма для модели"
   ]
  },
  {
   "cell_type": "code",
   "execution_count": 3,
   "id": "5f32d839-727d-4837-ba15-453db0c93895",
   "metadata": {},
   "outputs": [
    {
     "name": "stdout",
     "output_type": "stream",
     "text": [
      "2022-03-14 23:41:51.753405\n"
     ]
    }
   ],
   "source": [
    "print(datetime.datetime.now())"
   ]
  },
  {
   "cell_type": "markdown",
   "id": "3bd91fba-de71-4da6-9922-ad01d1663456",
   "metadata": {},
   "source": [
    "## Данные"
   ]
  },
  {
   "cell_type": "code",
   "execution_count": 19,
   "id": "9330e3b2-0fb3-495b-b45e-17908919700d",
   "metadata": {},
   "outputs": [],
   "source": [
    "df_uuid_x_education_labeled = pd.read_csv('data/features/education_field_of_study_classes.csv', index_col=0)\n",
    "df_uuid_x_skills_list = pd.read_csv('data/uuid_x_skills_fields.csv', index_col=0)\\\n",
    ".groupby('org_uuid')['skill']\\\n",
    ".apply(list)\\\n",
    ".reset_index()"
   ]
  },
  {
   "cell_type": "code",
   "execution_count": 20,
   "id": "68a15124-7a40-4b82-84c4-bf0a6b9fa0e1",
   "metadata": {},
   "outputs": [
    {
     "data": {
      "text/html": [
       "<div>\n",
       "<style scoped>\n",
       "    .dataframe tbody tr th:only-of-type {\n",
       "        vertical-align: middle;\n",
       "    }\n",
       "\n",
       "    .dataframe tbody tr th {\n",
       "        vertical-align: top;\n",
       "    }\n",
       "\n",
       "    .dataframe thead th {\n",
       "        text-align: right;\n",
       "    }\n",
       "</style>\n",
       "<table border=\"1\" class=\"dataframe\">\n",
       "  <thead>\n",
       "    <tr style=\"text-align: right;\">\n",
       "      <th></th>\n",
       "      <th>org_uuid</th>\n",
       "      <th>education_field_of_study</th>\n",
       "      <th>Class</th>\n",
       "      <th>top1</th>\n",
       "      <th>top2</th>\n",
       "    </tr>\n",
       "  </thead>\n",
       "  <tbody>\n",
       "    <tr>\n",
       "      <th>0</th>\n",
       "      <td>438c7e89-ba0c-b8cc-7ea6-1a0ac47ae40d</td>\n",
       "      <td>English</td>\n",
       "      <td>Other</td>\n",
       "      <td>0.201535</td>\n",
       "      <td>0.198198</td>\n",
       "    </tr>\n",
       "    <tr>\n",
       "      <th>1</th>\n",
       "      <td>438c7e89-ba0c-b8cc-7ea6-1a0ac47ae40d</td>\n",
       "      <td>English, History</td>\n",
       "      <td>Other</td>\n",
       "      <td>0.145493</td>\n",
       "      <td>0.142640</td>\n",
       "    </tr>\n",
       "    <tr>\n",
       "      <th>2</th>\n",
       "      <td>b37187f2-8ad4-8225-cfa2-2757f2ef9bc4</td>\n",
       "      <td>Electrical, Electronics and Communications Eng...</td>\n",
       "      <td>Computer Science</td>\n",
       "      <td>0.446723</td>\n",
       "      <td>0.250942</td>\n",
       "    </tr>\n",
       "    <tr>\n",
       "      <th>3</th>\n",
       "      <td>46c990f6-e14d-3cfe-0bba-a95a6692cfad</td>\n",
       "      <td>Political Science</td>\n",
       "      <td>Computer Science</td>\n",
       "      <td>0.395413</td>\n",
       "      <td>0.278185</td>\n",
       "    </tr>\n",
       "    <tr>\n",
       "      <th>4</th>\n",
       "      <td>46a7242e-ff55-5748-a6d3-207bef892d3e</td>\n",
       "      <td>Computer Science (Informations Systems Special...</td>\n",
       "      <td>Computer Science</td>\n",
       "      <td>0.694438</td>\n",
       "      <td>0.363370</td>\n",
       "    </tr>\n",
       "  </tbody>\n",
       "</table>\n",
       "</div>"
      ],
      "text/plain": [
       "                               org_uuid  \\\n",
       "0  438c7e89-ba0c-b8cc-7ea6-1a0ac47ae40d   \n",
       "1  438c7e89-ba0c-b8cc-7ea6-1a0ac47ae40d   \n",
       "2  b37187f2-8ad4-8225-cfa2-2757f2ef9bc4   \n",
       "3  46c990f6-e14d-3cfe-0bba-a95a6692cfad   \n",
       "4  46a7242e-ff55-5748-a6d3-207bef892d3e   \n",
       "\n",
       "                            education_field_of_study             Class  \\\n",
       "0                                            English             Other   \n",
       "1                                   English, History             Other   \n",
       "2  Electrical, Electronics and Communications Eng...  Computer Science   \n",
       "3                                  Political Science  Computer Science   \n",
       "4  Computer Science (Informations Systems Special...  Computer Science   \n",
       "\n",
       "       top1      top2  \n",
       "0  0.201535  0.198198  \n",
       "1  0.145493  0.142640  \n",
       "2  0.446723  0.250942  \n",
       "3  0.395413  0.278185  \n",
       "4  0.694438  0.363370  "
      ]
     },
     "execution_count": 20,
     "metadata": {},
     "output_type": "execute_result"
    }
   ],
   "source": [
    "df_uuid_x_education_labeled.head(5)"
   ]
  },
  {
   "cell_type": "code",
   "execution_count": 21,
   "id": "4b4e8ad4-764f-47a7-947a-b4932259624b",
   "metadata": {},
   "outputs": [
    {
     "data": {
      "text/html": [
       "<div>\n",
       "<style scoped>\n",
       "    .dataframe tbody tr th:only-of-type {\n",
       "        vertical-align: middle;\n",
       "    }\n",
       "\n",
       "    .dataframe tbody tr th {\n",
       "        vertical-align: top;\n",
       "    }\n",
       "\n",
       "    .dataframe thead th {\n",
       "        text-align: right;\n",
       "    }\n",
       "</style>\n",
       "<table border=\"1\" class=\"dataframe\">\n",
       "  <thead>\n",
       "    <tr style=\"text-align: right;\">\n",
       "      <th></th>\n",
       "      <th>org_uuid</th>\n",
       "      <th>skill</th>\n",
       "    </tr>\n",
       "  </thead>\n",
       "  <tbody>\n",
       "    <tr>\n",
       "      <th>0</th>\n",
       "      <td>00572f97-a71a-912f-33ff-53e630513374</td>\n",
       "      <td>[Microsoft Excel, Microsoft Office, Inventory ...</td>\n",
       "    </tr>\n",
       "    <tr>\n",
       "      <th>1</th>\n",
       "      <td>00609688-b615-b0b0-e989-2fbb4909216c</td>\n",
       "      <td>[Contract Negotiation, Media Finance, Legal, I...</td>\n",
       "    </tr>\n",
       "    <tr>\n",
       "      <th>2</th>\n",
       "      <td>00d3295a-366d-7601-6d8b-07823985e179</td>\n",
       "      <td>[Start-ups, Investment Banking, Private Equity...</td>\n",
       "    </tr>\n",
       "    <tr>\n",
       "      <th>3</th>\n",
       "      <td>01468916-8c37-1341-3953-7b58ee83c762</td>\n",
       "      <td>[Medical Affairs, Decision Making, Immunology,...</td>\n",
       "    </tr>\n",
       "    <tr>\n",
       "      <th>4</th>\n",
       "      <td>016c02c6-23a1-4718-6b81-88b9998415e1</td>\n",
       "      <td>[Internal Audit, Finance, Credit, Underwriting...</td>\n",
       "    </tr>\n",
       "  </tbody>\n",
       "</table>\n",
       "</div>"
      ],
      "text/plain": [
       "                               org_uuid  \\\n",
       "0  00572f97-a71a-912f-33ff-53e630513374   \n",
       "1  00609688-b615-b0b0-e989-2fbb4909216c   \n",
       "2  00d3295a-366d-7601-6d8b-07823985e179   \n",
       "3  01468916-8c37-1341-3953-7b58ee83c762   \n",
       "4  016c02c6-23a1-4718-6b81-88b9998415e1   \n",
       "\n",
       "                                               skill  \n",
       "0  [Microsoft Excel, Microsoft Office, Inventory ...  \n",
       "1  [Contract Negotiation, Media Finance, Legal, I...  \n",
       "2  [Start-ups, Investment Banking, Private Equity...  \n",
       "3  [Medical Affairs, Decision Making, Immunology,...  \n",
       "4  [Internal Audit, Finance, Credit, Underwriting...  "
      ]
     },
     "execution_count": 21,
     "metadata": {},
     "output_type": "execute_result"
    }
   ],
   "source": [
    "df_uuid_x_skills_list.head(5)"
   ]
  },
  {
   "cell_type": "markdown",
   "id": "c419f577-5df2-4546-a5f8-36100b56e310",
   "metadata": {},
   "source": [
    "## Cборка таблицы"
   ]
  },
  {
   "cell_type": "markdown",
   "id": "8770ac1e-665c-4b80-b660-45a86cabfb30",
   "metadata": {},
   "source": [
    "#### education_filed_of_study X skills"
   ]
  },
  {
   "cell_type": "code",
   "execution_count": 22,
   "id": "46a3b625-85a8-450c-8b78-4cc8581547e4",
   "metadata": {},
   "outputs": [],
   "source": [
    "df = df_uuid_x_education_labeled.merge(\n",
    "    df_uuid_x_skills_list,\n",
    "    how='inner', \n",
    "    on='org_uuid',\n",
    ")"
   ]
  },
  {
   "cell_type": "code",
   "execution_count": 24,
   "id": "336ed4a0-2803-4abc-a793-c17c3a862ef4",
   "metadata": {},
   "outputs": [
    {
     "data": {
      "text/html": [
       "<div>\n",
       "<style scoped>\n",
       "    .dataframe tbody tr th:only-of-type {\n",
       "        vertical-align: middle;\n",
       "    }\n",
       "\n",
       "    .dataframe tbody tr th {\n",
       "        vertical-align: top;\n",
       "    }\n",
       "\n",
       "    .dataframe thead th {\n",
       "        text-align: right;\n",
       "    }\n",
       "</style>\n",
       "<table border=\"1\" class=\"dataframe\">\n",
       "  <thead>\n",
       "    <tr style=\"text-align: right;\">\n",
       "      <th></th>\n",
       "      <th>org_uuid</th>\n",
       "      <th>education_field_of_study</th>\n",
       "      <th>Class</th>\n",
       "      <th>top1</th>\n",
       "      <th>top2</th>\n",
       "      <th>skill</th>\n",
       "    </tr>\n",
       "  </thead>\n",
       "  <tbody>\n",
       "    <tr>\n",
       "      <th>0</th>\n",
       "      <td>438c7e89-ba0c-b8cc-7ea6-1a0ac47ae40d</td>\n",
       "      <td>English</td>\n",
       "      <td>Other</td>\n",
       "      <td>0.201535</td>\n",
       "      <td>0.198198</td>\n",
       "      <td>[Advertising, Email Marketing, Social Media, E...</td>\n",
       "    </tr>\n",
       "    <tr>\n",
       "      <th>1</th>\n",
       "      <td>438c7e89-ba0c-b8cc-7ea6-1a0ac47ae40d</td>\n",
       "      <td>English, History</td>\n",
       "      <td>Other</td>\n",
       "      <td>0.145493</td>\n",
       "      <td>0.142640</td>\n",
       "      <td>[Advertising, Email Marketing, Social Media, E...</td>\n",
       "    </tr>\n",
       "    <tr>\n",
       "      <th>2</th>\n",
       "      <td>b37187f2-8ad4-8225-cfa2-2757f2ef9bc4</td>\n",
       "      <td>Electrical, Electronics and Communications Eng...</td>\n",
       "      <td>Computer Science</td>\n",
       "      <td>0.446723</td>\n",
       "      <td>0.250942</td>\n",
       "      <td>[Wireless LAN Controller, 802.11n, VxWorks, Ro...</td>\n",
       "    </tr>\n",
       "    <tr>\n",
       "      <th>3</th>\n",
       "      <td>b37187f2-8ad4-8225-cfa2-2757f2ef9bc4</td>\n",
       "      <td>Advanced Technologies and Computer Science</td>\n",
       "      <td>Computer Science</td>\n",
       "      <td>0.735145</td>\n",
       "      <td>0.251178</td>\n",
       "      <td>[Wireless LAN Controller, 802.11n, VxWorks, Ro...</td>\n",
       "    </tr>\n",
       "    <tr>\n",
       "      <th>4</th>\n",
       "      <td>b37187f2-8ad4-8225-cfa2-2757f2ef9bc4</td>\n",
       "      <td>Global Leadership and Public Policy</td>\n",
       "      <td>Management</td>\n",
       "      <td>0.384585</td>\n",
       "      <td>0.056121</td>\n",
       "      <td>[Wireless LAN Controller, 802.11n, VxWorks, Ro...</td>\n",
       "    </tr>\n",
       "  </tbody>\n",
       "</table>\n",
       "</div>"
      ],
      "text/plain": [
       "                               org_uuid  \\\n",
       "0  438c7e89-ba0c-b8cc-7ea6-1a0ac47ae40d   \n",
       "1  438c7e89-ba0c-b8cc-7ea6-1a0ac47ae40d   \n",
       "2  b37187f2-8ad4-8225-cfa2-2757f2ef9bc4   \n",
       "3  b37187f2-8ad4-8225-cfa2-2757f2ef9bc4   \n",
       "4  b37187f2-8ad4-8225-cfa2-2757f2ef9bc4   \n",
       "\n",
       "                            education_field_of_study             Class  \\\n",
       "0                                            English             Other   \n",
       "1                                   English, History             Other   \n",
       "2  Electrical, Electronics and Communications Eng...  Computer Science   \n",
       "3         Advanced Technologies and Computer Science  Computer Science   \n",
       "4                Global Leadership and Public Policy        Management   \n",
       "\n",
       "       top1      top2                                              skill  \n",
       "0  0.201535  0.198198  [Advertising, Email Marketing, Social Media, E...  \n",
       "1  0.145493  0.142640  [Advertising, Email Marketing, Social Media, E...  \n",
       "2  0.446723  0.250942  [Wireless LAN Controller, 802.11n, VxWorks, Ro...  \n",
       "3  0.735145  0.251178  [Wireless LAN Controller, 802.11n, VxWorks, Ro...  \n",
       "4  0.384585  0.056121  [Wireless LAN Controller, 802.11n, VxWorks, Ro...  "
      ]
     },
     "execution_count": 24,
     "metadata": {},
     "output_type": "execute_result"
    }
   ],
   "source": [
    "df.head(5)"
   ]
  },
  {
   "cell_type": "code",
   "execution_count": 27,
   "id": "e77b067e-ca3e-453a-a6c4-f9460f6c93a9",
   "metadata": {},
   "outputs": [],
   "source": [
    "df.to_csv('data/features/uuid_x_efofs_class_x_skills.csv')"
   ]
  },
  {
   "cell_type": "code",
   "execution_count": null,
   "id": "80244cd8-817d-4996-b369-6ce7caae9a49",
   "metadata": {},
   "outputs": [],
   "source": []
  }
 ],
 "metadata": {
  "kernelspec": {
   "display_name": "Python 3",
   "language": "python",
   "name": "python3"
  },
  "language_info": {
   "codemirror_mode": {
    "name": "ipython",
    "version": 3
   },
   "file_extension": ".py",
   "mimetype": "text/x-python",
   "name": "python",
   "nbconvert_exporter": "python",
   "pygments_lexer": "ipython3",
   "version": "3.8.8"
  }
 },
 "nbformat": 4,
 "nbformat_minor": 5
}
