{
 "cells": [
  {
   "cell_type": "code",
   "execution_count": 7,
   "id": "f9e05312-2a9d-43fc-a324-2b5a77e3dbd4",
   "metadata": {},
   "outputs": [],
   "source": [
    "import pandas as pd\n",
    "import numpy as np\n",
    "import plotly.express as px\n",
    "import copy\n",
    "import datetime\n",
    "import matplotlib.pyplot as plt"
   ]
  },
  {
   "cell_type": "code",
   "execution_count": 8,
   "id": "ed30423b-d61d-4758-8caa-08991521d23d",
   "metadata": {},
   "outputs": [
    {
     "name": "stdout",
     "output_type": "stream",
     "text": [
      "2022-03-15 00:32:12.337361\n"
     ]
    }
   ],
   "source": [
    "print(datetime.datetime.now())"
   ]
  },
  {
   "cell_type": "markdown",
   "id": "dd1d5003-cf98-4bd8-a8bb-22fcea2b8e6e",
   "metadata": {},
   "source": [
    "## Данные"
   ]
  },
  {
   "cell_type": "code",
   "execution_count": 9,
   "id": "66696b99-e2fe-4693-bfae-fa41d53d8e5e",
   "metadata": {},
   "outputs": [
    {
     "data": {
      "text/plain": [
       "Other               867\n",
       "Finance             592\n",
       "Computer Science    559\n",
       "Management          350\n",
       "Biology             254\n",
       "Name: Class, dtype: int64"
      ]
     },
     "execution_count": 9,
     "metadata": {},
     "output_type": "execute_result"
    }
   ],
   "source": [
    "df = pd.read_csv('data/features/education_field_of_study_classes.csv', index_col=0)\n",
    "df['Class'].value_counts()"
   ]
  },
  {
   "cell_type": "code",
   "execution_count": 10,
   "id": "2185cf51-ee52-418e-b023-d05ae5b865d1",
   "metadata": {},
   "outputs": [
    {
     "data": {
      "image/png": "[encoded data removed]",
      "text/plain": [
       "<Figure size 720x432 with 1 Axes>"
      ]
     },
     "metadata": {
      "needs_background": "light"
     },
     "output_type": "display_data"
    }
   ],
   "source": [
    "plt.figure(figsize=(10,6))\n",
    "plt.title('Top 1 and top 2 semilarity metric')\n",
    "df['top1'].hist(bins=20, color='r', alpha=0.3, label='top 1')\n",
    "df['top2'].hist(bins=20, color='b', alpha=0.3, label='top 2')\n",
    "plt.xlim(0, 1)\n",
    "plt.legend()\n",
    "plt.show()"
   ]
  },
  {
   "cell_type": "code",
   "execution_count": 18,
   "id": "4a4149c9-c279-433e-928b-d8b159f60104",
   "metadata": {},
   "outputs": [
    {
     "data": {
      "text/html": [
       "<div>\n",
       "<style scoped>\n",
       "    .dataframe tbody tr th:only-of-type {\n",
       "        vertical-align: middle;\n",
       "    }\n",
       "\n",
       "    .dataframe tbody tr th {\n",
       "        vertical-align: top;\n",
       "    }\n",
       "\n",
       "    .dataframe thead th {\n",
       "        text-align: right;\n",
       "    }\n",
       "</style>\n",
       "<table border=\"1\" class=\"dataframe\">\n",
       "  <thead>\n",
       "    <tr style=\"text-align: right;\">\n",
       "      <th></th>\n",
       "      <th>company_name</th>\n",
       "      <th>city</th>\n",
       "      <th>number_of_rounds</th>\n",
       "      <th>exit_type</th>\n",
       "    </tr>\n",
       "  </thead>\n",
       "  <tbody>\n",
       "    <tr>\n",
       "      <th>0</th>\n",
       "      <td>Aerohive Networks</td>\n",
       "      <td>Sunnyvale</td>\n",
       "      <td>7</td>\n",
       "      <td>ipo</td>\n",
       "    </tr>\n",
       "    <tr>\n",
       "      <th>1</th>\n",
       "      <td>OncoMed Pharmaceuticals</td>\n",
       "      <td>Redwood City</td>\n",
       "      <td>4</td>\n",
       "      <td>ipo</td>\n",
       "    </tr>\n",
       "    <tr>\n",
       "      <th>2</th>\n",
       "      <td>Stitch Fix</td>\n",
       "      <td>San Francisco</td>\n",
       "      <td>5</td>\n",
       "      <td>ipo</td>\n",
       "    </tr>\n",
       "    <tr>\n",
       "      <th>3</th>\n",
       "      <td>OwnEnergy</td>\n",
       "      <td>Brooklyn</td>\n",
       "      <td>4</td>\n",
       "      <td>sold</td>\n",
       "    </tr>\n",
       "    <tr>\n",
       "      <th>4</th>\n",
       "      <td>Nirvanix</td>\n",
       "      <td>San Diego</td>\n",
       "      <td>6</td>\n",
       "      <td>dead</td>\n",
       "    </tr>\n",
       "  </tbody>\n",
       "</table>\n",
       "</div>"
      ],
      "text/plain": [
       "              company_name           city  number_of_rounds exit_type\n",
       "0        Aerohive Networks      Sunnyvale                 7       ipo\n",
       "1  OncoMed Pharmaceuticals   Redwood City                 4       ipo\n",
       "2               Stitch Fix  San Francisco                 5       ipo\n",
       "3                OwnEnergy       Brooklyn                 4      sold\n",
       "4                 Nirvanix      San Diego                 6      dead"
      ]
     },
     "execution_count": 18,
     "metadata": {},
     "output_type": "execute_result"
    }
   ],
   "source": [
    "df = pd.read_csv('data/important/company_list.csv', index_col=0)\n",
    "df[['city', 'number_of_rounds', 'exit_type']].sample(5).reset_index()"
   ]
  },
  {
   "cell_type": "code",
   "execution_count": 23,
   "id": "8b299ed3-71a3-4003-a4fc-ed7761d77574",
   "metadata": {},
   "outputs": [
    {
     "data": {
      "text/plain": [
       "education_field_of_study                       \n",
       "Computer Science                                   136\n",
       "Economics                                          105\n",
       "Finance                                            101\n",
       "Accounting                                          71\n",
       "Electrical Engineering                              65\n",
       "Business Administration and Management, General     42\n",
       "Mechanical Engineering                              35\n",
       "Physics                                             33\n",
       "Biochemistry                                        30\n",
       "Mathematics                                         29\n",
       "Law                                                 29\n",
       "Finance, General                                    26\n",
       "Marketing                                           25\n",
       "Chemistry                                           24\n",
       "Biology                                             23\n",
       "Business                                            22\n",
       "History                                             21\n",
       "Business Administration                             20\n",
       "Computer Engineering                                20\n",
       "Chemical Engineering                                19\n",
       "Accounting and Finance                              17\n",
       "Management                                          16\n",
       "Engineering                                         16\n",
       "Electrical and Electronics Engineering              13\n",
       "Medicine                                            13\n",
       "Political Science                                   12\n",
       "Psychology                                          11\n",
       "International Business                              10\n",
       "Philosophy                                          10\n",
       "English                                             10\n",
       "dtype: int64"
      ]
     },
     "execution_count": 23,
     "metadata": {},
     "output_type": "execute_result"
    }
   ],
   "source": [
    "df = pd.read_csv('data/features/education_field_of_study_classes.csv', index_col=0)\n",
    "df[['education_field_of_study']].value_counts().head(30)"
   ]
  },
  {
   "cell_type": "code",
   "execution_count": null,
   "id": "36043149-47e6-482d-aa6c-469e54badc11",
   "metadata": {},
   "outputs": [],
   "source": []
  }
 ],
 "metadata": {
  "kernelspec": {
   "display_name": "Python 3",
   "language": "python",
   "name": "python3"
  },
  "language_info": {
   "codemirror_mode": {
    "name": "ipython",
    "version": 3
   },
   "file_extension": ".py",
   "mimetype": "text/x-python",
   "name": "python",
   "nbconvert_exporter": "python",
   "pygments_lexer": "ipython3",
   "version": "3.8.8"
  }
 },
 "nbformat": 4,
 "nbformat_minor": 5
}
