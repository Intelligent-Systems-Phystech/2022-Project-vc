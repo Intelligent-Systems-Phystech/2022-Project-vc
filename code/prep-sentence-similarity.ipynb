{
 "cells": [
  {
   "cell_type": "raw",
   "id": "12a40e3b-e2a9-4bc5-9c57-9155725798da",
   "metadata": {},
   "source": [
    "pip install -U sentence-transformers"
   ]
  },
  {
   "cell_type": "code",
   "execution_count": 11,
   "id": "a40865ff-24b9-4315-b667-d94110bd18ed",
   "metadata": {},
   "outputs": [],
   "source": [
    "import pandas as pd\n",
    "import numpy as np\n",
    "import plotly.express as px\n",
    "import copy\n",
    "import datetime\n",
    "import matplotlib.pyplot as plt"
   ]
  },
  {
   "cell_type": "markdown",
   "id": "6b8f9960-c426-43fe-96fc-4a16162fed0f",
   "metadata": {},
   "source": [
    "# Классификация строк "
   ]
  },
  {
   "cell_type": "code",
   "execution_count": 2,
   "id": "6967b313-596b-46cf-83fd-9e6555a4dd4c",
   "metadata": {},
   "outputs": [
    {
     "name": "stdout",
     "output_type": "stream",
     "text": [
      "2022-03-14 12:44:13.640808\n"
     ]
    }
   ],
   "source": [
    "print(datetime.datetime.now())"
   ]
  },
  {
   "cell_type": "markdown",
   "id": "d8966305-be05-4f1c-aa3d-852cbdca4915",
   "metadata": {},
   "source": [
    "## JSON to DataFrame"
   ]
  },
  {
   "cell_type": "raw",
   "id": "45070dc8-2d24-4c38-8f70-28227fa86ecc",
   "metadata": {},
   "source": [
    "!python data.py"
   ]
  },
  {
   "cell_type": "markdown",
   "id": "84992fe4-25e3-44ab-be65-5a682e98f334",
   "metadata": {},
   "source": [
    "## Данные"
   ]
  },
  {
   "cell_type": "code",
   "execution_count": 3,
   "id": "41a28a33-d05c-4d93-91a7-a507c06a0736",
   "metadata": {},
   "outputs": [],
   "source": [
    "df_education = pd.read_csv('data/uuid_x_education_fields.csv', index_col=0)\n",
    "df_education = df_education[~df_education['education_field_of_study'].isna()][['org_uuid', 'education_field_of_study']].reset_index(drop=True)"
   ]
  },
  {
   "cell_type": "code",
   "execution_count": 4,
   "id": "528fa885-6c38-4b49-b38c-4a121b375693",
   "metadata": {},
   "outputs": [
    {
     "data": {
      "text/html": [
       "<div>\n",
       "<style scoped>\n",
       "    .dataframe tbody tr th:only-of-type {\n",
       "        vertical-align: middle;\n",
       "    }\n",
       "\n",
       "    .dataframe tbody tr th {\n",
       "        vertical-align: top;\n",
       "    }\n",
       "\n",
       "    .dataframe thead th {\n",
       "        text-align: right;\n",
       "    }\n",
       "</style>\n",
       "<table border=\"1\" class=\"dataframe\">\n",
       "  <thead>\n",
       "    <tr style=\"text-align: right;\">\n",
       "      <th></th>\n",
       "      <th>org_uuid</th>\n",
       "      <th>education_field_of_study</th>\n",
       "    </tr>\n",
       "  </thead>\n",
       "  <tbody>\n",
       "    <tr>\n",
       "      <th>0</th>\n",
       "      <td>438c7e89-ba0c-b8cc-7ea6-1a0ac47ae40d</td>\n",
       "      <td>English</td>\n",
       "    </tr>\n",
       "    <tr>\n",
       "      <th>1</th>\n",
       "      <td>438c7e89-ba0c-b8cc-7ea6-1a0ac47ae40d</td>\n",
       "      <td>English, History</td>\n",
       "    </tr>\n",
       "    <tr>\n",
       "      <th>2</th>\n",
       "      <td>b37187f2-8ad4-8225-cfa2-2757f2ef9bc4</td>\n",
       "      <td>Electrical, Electronics and Communications Eng...</td>\n",
       "    </tr>\n",
       "    <tr>\n",
       "      <th>3</th>\n",
       "      <td>46c990f6-e14d-3cfe-0bba-a95a6692cfad</td>\n",
       "      <td>Political Science</td>\n",
       "    </tr>\n",
       "    <tr>\n",
       "      <th>4</th>\n",
       "      <td>46a7242e-ff55-5748-a6d3-207bef892d3e</td>\n",
       "      <td>Computer Science (Informations Systems Special...</td>\n",
       "    </tr>\n",
       "    <tr>\n",
       "      <th>...</th>\n",
       "      <td>...</td>\n",
       "      <td>...</td>\n",
       "    </tr>\n",
       "    <tr>\n",
       "      <th>2617</th>\n",
       "      <td>e7d48747-e528-42a1-94d6-3f4c1e7d586a</td>\n",
       "      <td>Pure Mathematics</td>\n",
       "    </tr>\n",
       "    <tr>\n",
       "      <th>2618</th>\n",
       "      <td>3705f9f3-a94d-f2cc-e8a8-acd750ea60fd</td>\n",
       "      <td>Chemistry</td>\n",
       "    </tr>\n",
       "    <tr>\n",
       "      <th>2619</th>\n",
       "      <td>3705f9f3-a94d-f2cc-e8a8-acd750ea60fd</td>\n",
       "      <td>Physical Chemistry</td>\n",
       "    </tr>\n",
       "    <tr>\n",
       "      <th>2620</th>\n",
       "      <td>3a372b39-86d8-a24e-9fea-3be65013b476</td>\n",
       "      <td>Political Behavior</td>\n",
       "    </tr>\n",
       "    <tr>\n",
       "      <th>2621</th>\n",
       "      <td>8754aa07-6a53-aea5-fd0a-6f82c9191d1d</td>\n",
       "      <td>Computer Science (1st class)</td>\n",
       "    </tr>\n",
       "  </tbody>\n",
       "</table>\n",
       "<p>2622 rows × 2 columns</p>\n",
       "</div>"
      ],
      "text/plain": [
       "                                  org_uuid  \\\n",
       "0     438c7e89-ba0c-b8cc-7ea6-1a0ac47ae40d   \n",
       "1     438c7e89-ba0c-b8cc-7ea6-1a0ac47ae40d   \n",
       "2     b37187f2-8ad4-8225-cfa2-2757f2ef9bc4   \n",
       "3     46c990f6-e14d-3cfe-0bba-a95a6692cfad   \n",
       "4     46a7242e-ff55-5748-a6d3-207bef892d3e   \n",
       "...                                    ...   \n",
       "2617  e7d48747-e528-42a1-94d6-3f4c1e7d586a   \n",
       "2618  3705f9f3-a94d-f2cc-e8a8-acd750ea60fd   \n",
       "2619  3705f9f3-a94d-f2cc-e8a8-acd750ea60fd   \n",
       "2620  3a372b39-86d8-a24e-9fea-3be65013b476   \n",
       "2621  8754aa07-6a53-aea5-fd0a-6f82c9191d1d   \n",
       "\n",
       "                               education_field_of_study  \n",
       "0                                               English  \n",
       "1                                      English, History  \n",
       "2     Electrical, Electronics and Communications Eng...  \n",
       "3                                     Political Science  \n",
       "4     Computer Science (Informations Systems Special...  \n",
       "...                                                 ...  \n",
       "2617                                   Pure Mathematics  \n",
       "2618                                          Chemistry  \n",
       "2619                                 Physical Chemistry  \n",
       "2620                                 Political Behavior  \n",
       "2621                       Computer Science (1st class)  \n",
       "\n",
       "[2622 rows x 2 columns]"
      ]
     },
     "execution_count": 4,
     "metadata": {},
     "output_type": "execute_result"
    }
   ],
   "source": [
    "df_education"
   ]
  },
  {
   "cell_type": "markdown",
   "id": "ed52fa97-5370-4c80-9deb-80f1a60f6b9a",
   "metadata": {},
   "source": [
    "# sentence-transformers/multi-qa-MiniLM-L6-cos-v1"
   ]
  },
  {
   "cell_type": "markdown",
   "id": "d0382626-b625-40ac-88e3-1ffe93865b0e",
   "metadata": {},
   "source": [
    "## Education field of study"
   ]
  },
  {
   "cell_type": "code",
   "execution_count": 5,
   "id": "c9216928-0063-4df9-b25c-5ff7855276cb",
   "metadata": {},
   "outputs": [],
   "source": [
    "# ToDo DataFrame with first, second, third, ..."
   ]
  },
  {
   "cell_type": "code",
   "execution_count": 6,
   "id": "401ed0bb-fa3d-49d9-9a5c-c2c702c5254f",
   "metadata": {},
   "outputs": [
    {
     "name": "stdout",
     "output_type": "stream",
     "text": [
      "2622 / 2622\r"
     ]
    }
   ],
   "source": [
    "from sentence_transformers import SentenceTransformer, util\n",
    "\n",
    "threshold = 0.35\n",
    "classes = [\"Biology\", \"Computer Science\", \"Management\", \"Finance\"]\n",
    "\n",
    "#Load the model\n",
    "model = SentenceTransformer('sentence-transformers/multi-qa-MiniLM-L6-cos-v1')\n",
    "\n",
    "classification_vec = []\n",
    "first_vec, second_vec = [], []\n",
    "\n",
    "for i, query in enumerate(df_education['education_field_of_study']):\n",
    "    \n",
    "    print('{} / {}'.format(i+1, df_education.shape[0]), end=\"\\r\")\n",
    "    \n",
    "    #Encode query and documents\n",
    "    query_emb = model.encode(query)\n",
    "    classes_emb = model.encode(classes)\n",
    "\n",
    "    #Compute dot score between query and all document embeddings\n",
    "    scores = util.dot_score(query_emb, classes_emb)[0].cpu().tolist()\n",
    "    \n",
    "    first_score = np.partition(scores, -1)[-1]\n",
    "    second_score = np.partition(scores, -2)[-2]\n",
    "    \n",
    "    if first_score > threshold:\n",
    "        i = np.argmax(scores)\n",
    "        classification_vec.append(classes[i])\n",
    "    else:\n",
    "        classification_vec.append(\"Other\") \n",
    "    first_vec.append(first_score)\n",
    "    second_vec.append(second_score)\n",
    "        \n",
    "df_classes = pd.DataFrame(data=classification_vec, columns=[\"Class\"])\n",
    "df_first = pd.DataFrame(data=first_vec, columns=[\"top1\"])\n",
    "df_second = pd.DataFrame(data=second_vec, columns=[\"top2\"])\n",
    "    \n",
    "df = pd.concat(\n",
    "    [\n",
    "        df_education,\n",
    "        df_classes, \n",
    "        df_first,\n",
    "        df_second\n",
    "    ], axis=1\n",
    ")"
   ]
  },
  {
   "cell_type": "code",
   "execution_count": 7,
   "id": "d1a7adba-d6f4-4fda-a88a-b86963a5fb2c",
   "metadata": {},
   "outputs": [],
   "source": [
    "model.save('models/multi-qa-MiniLM-L6-cos-v1')"
   ]
  },
  {
   "cell_type": "code",
   "execution_count": 11,
   "id": "2511fb26-bcac-4839-bfd5-94e6b4ca4ae7",
   "metadata": {},
   "outputs": [],
   "source": [
    "df.to_csv('data/features/education_field_of_study_classes.csv')"
   ]
  },
  {
   "cell_type": "code",
   "execution_count": 12,
   "id": "839ead45-a19d-4f43-8d40-18cfb39640c0",
   "metadata": {},
   "outputs": [
    {
     "data": {
      "text/html": [
       "<div>\n",
       "<style scoped>\n",
       "    .dataframe tbody tr th:only-of-type {\n",
       "        vertical-align: middle;\n",
       "    }\n",
       "\n",
       "    .dataframe tbody tr th {\n",
       "        vertical-align: top;\n",
       "    }\n",
       "\n",
       "    .dataframe thead th {\n",
       "        text-align: right;\n",
       "    }\n",
       "</style>\n",
       "<table border=\"1\" class=\"dataframe\">\n",
       "  <thead>\n",
       "    <tr style=\"text-align: right;\">\n",
       "      <th></th>\n",
       "      <th>org_uuid</th>\n",
       "      <th>education_field_of_study</th>\n",
       "      <th>Class</th>\n",
       "      <th>top1</th>\n",
       "      <th>top2</th>\n",
       "    </tr>\n",
       "  </thead>\n",
       "  <tbody>\n",
       "    <tr>\n",
       "      <th>0</th>\n",
       "      <td>438c7e89-ba0c-b8cc-7ea6-1a0ac47ae40d</td>\n",
       "      <td>English</td>\n",
       "      <td>Other</td>\n",
       "      <td>0.201535</td>\n",
       "      <td>0.198198</td>\n",
       "    </tr>\n",
       "    <tr>\n",
       "      <th>1</th>\n",
       "      <td>438c7e89-ba0c-b8cc-7ea6-1a0ac47ae40d</td>\n",
       "      <td>English, History</td>\n",
       "      <td>Other</td>\n",
       "      <td>0.145493</td>\n",
       "      <td>0.142640</td>\n",
       "    </tr>\n",
       "    <tr>\n",
       "      <th>2</th>\n",
       "      <td>b37187f2-8ad4-8225-cfa2-2757f2ef9bc4</td>\n",
       "      <td>Electrical, Electronics and Communications Eng...</td>\n",
       "      <td>Computer Science</td>\n",
       "      <td>0.446723</td>\n",
       "      <td>0.250942</td>\n",
       "    </tr>\n",
       "    <tr>\n",
       "      <th>3</th>\n",
       "      <td>46c990f6-e14d-3cfe-0bba-a95a6692cfad</td>\n",
       "      <td>Political Science</td>\n",
       "      <td>Computer Science</td>\n",
       "      <td>0.395413</td>\n",
       "      <td>0.278185</td>\n",
       "    </tr>\n",
       "    <tr>\n",
       "      <th>4</th>\n",
       "      <td>46a7242e-ff55-5748-a6d3-207bef892d3e</td>\n",
       "      <td>Computer Science (Informations Systems Special...</td>\n",
       "      <td>Computer Science</td>\n",
       "      <td>0.694438</td>\n",
       "      <td>0.363370</td>\n",
       "    </tr>\n",
       "    <tr>\n",
       "      <th>5</th>\n",
       "      <td>1ee72ff8-102f-fe07-a823-73ccece54f09</td>\n",
       "      <td>Computer Science</td>\n",
       "      <td>Computer Science</td>\n",
       "      <td>1.000000</td>\n",
       "      <td>0.256522</td>\n",
       "    </tr>\n",
       "    <tr>\n",
       "      <th>6</th>\n",
       "      <td>aa85c39b-4a8a-960e-cfef-063129816e28</td>\n",
       "      <td>Finance</td>\n",
       "      <td>Finance</td>\n",
       "      <td>1.000000</td>\n",
       "      <td>0.256522</td>\n",
       "    </tr>\n",
       "    <tr>\n",
       "      <th>7</th>\n",
       "      <td>aa85c39b-4a8a-960e-cfef-063129816e28</td>\n",
       "      <td>Chemistry and Business</td>\n",
       "      <td>Other</td>\n",
       "      <td>0.349468</td>\n",
       "      <td>0.291982</td>\n",
       "    </tr>\n",
       "    <tr>\n",
       "      <th>8</th>\n",
       "      <td>4f3eed85-1fab-f448-8f92-7126d202ed0d</td>\n",
       "      <td>Electrical Engineering</td>\n",
       "      <td>Computer Science</td>\n",
       "      <td>0.381583</td>\n",
       "      <td>0.193875</td>\n",
       "    </tr>\n",
       "    <tr>\n",
       "      <th>9</th>\n",
       "      <td>4d17e9c7-47e6-ea9a-84f1-80e56bd219d3</td>\n",
       "      <td>Biology</td>\n",
       "      <td>Biology</td>\n",
       "      <td>1.000000</td>\n",
       "      <td>0.236289</td>\n",
       "    </tr>\n",
       "    <tr>\n",
       "      <th>10</th>\n",
       "      <td>4730b2a0-c505-f32e-2aba-d4cea2a63be1</td>\n",
       "      <td>Computer Science</td>\n",
       "      <td>Computer Science</td>\n",
       "      <td>1.000000</td>\n",
       "      <td>0.256522</td>\n",
       "    </tr>\n",
       "    <tr>\n",
       "      <th>11</th>\n",
       "      <td>35c99bab-7b68-7ebf-b28c-0d64132a2489</td>\n",
       "      <td>Electrical Engineering</td>\n",
       "      <td>Computer Science</td>\n",
       "      <td>0.381583</td>\n",
       "      <td>0.193875</td>\n",
       "    </tr>\n",
       "    <tr>\n",
       "      <th>12</th>\n",
       "      <td>35c99bab-7b68-7ebf-b28c-0d64132a2489</td>\n",
       "      <td>Electrical Engineering &amp; English</td>\n",
       "      <td>Other</td>\n",
       "      <td>0.312056</td>\n",
       "      <td>0.124993</td>\n",
       "    </tr>\n",
       "    <tr>\n",
       "      <th>13</th>\n",
       "      <td>2e70f4af-edfc-e9f5-8ce6-72f27f208b20</td>\n",
       "      <td>Accounting</td>\n",
       "      <td>Finance</td>\n",
       "      <td>0.526841</td>\n",
       "      <td>0.401748</td>\n",
       "    </tr>\n",
       "    <tr>\n",
       "      <th>14</th>\n",
       "      <td>12a0bc30-c95b-ab52-1d7a-e73baaf2274d</td>\n",
       "      <td>Linguistics</td>\n",
       "      <td>Other</td>\n",
       "      <td>0.225372</td>\n",
       "      <td>0.145388</td>\n",
       "    </tr>\n",
       "    <tr>\n",
       "      <th>15</th>\n",
       "      <td>d964e925-a212-7649-cec9-9b19642e399e</td>\n",
       "      <td>Biochemistry</td>\n",
       "      <td>Biology</td>\n",
       "      <td>0.618671</td>\n",
       "      <td>0.222753</td>\n",
       "    </tr>\n",
       "    <tr>\n",
       "      <th>16</th>\n",
       "      <td>d964e925-a212-7649-cec9-9b19642e399e</td>\n",
       "      <td>Biochemistry</td>\n",
       "      <td>Biology</td>\n",
       "      <td>0.618671</td>\n",
       "      <td>0.222753</td>\n",
       "    </tr>\n",
       "    <tr>\n",
       "      <th>17</th>\n",
       "      <td>80ae6677-47e5-0624-158d-5742efe749ec</td>\n",
       "      <td>Center for Civic Media and the Computing Cultu...</td>\n",
       "      <td>Other</td>\n",
       "      <td>0.275022</td>\n",
       "      <td>0.257848</td>\n",
       "    </tr>\n",
       "    <tr>\n",
       "      <th>18</th>\n",
       "      <td>80ae6677-47e5-0624-158d-5742efe749ec</td>\n",
       "      <td>Interdisciplinary Computing in the Arts &amp; Musi...</td>\n",
       "      <td>Computer Science</td>\n",
       "      <td>0.623623</td>\n",
       "      <td>0.232120</td>\n",
       "    </tr>\n",
       "    <tr>\n",
       "      <th>19</th>\n",
       "      <td>3f74b007-7928-5c78-4909-6537a932e629</td>\n",
       "      <td>Electrical Engineering</td>\n",
       "      <td>Computer Science</td>\n",
       "      <td>0.381583</td>\n",
       "      <td>0.193875</td>\n",
       "    </tr>\n",
       "  </tbody>\n",
       "</table>\n",
       "</div>"
      ],
      "text/plain": [
       "                                org_uuid  \\\n",
       "0   438c7e89-ba0c-b8cc-7ea6-1a0ac47ae40d   \n",
       "1   438c7e89-ba0c-b8cc-7ea6-1a0ac47ae40d   \n",
       "2   b37187f2-8ad4-8225-cfa2-2757f2ef9bc4   \n",
       "3   46c990f6-e14d-3cfe-0bba-a95a6692cfad   \n",
       "4   46a7242e-ff55-5748-a6d3-207bef892d3e   \n",
       "5   1ee72ff8-102f-fe07-a823-73ccece54f09   \n",
       "6   aa85c39b-4a8a-960e-cfef-063129816e28   \n",
       "7   aa85c39b-4a8a-960e-cfef-063129816e28   \n",
       "8   4f3eed85-1fab-f448-8f92-7126d202ed0d   \n",
       "9   4d17e9c7-47e6-ea9a-84f1-80e56bd219d3   \n",
       "10  4730b2a0-c505-f32e-2aba-d4cea2a63be1   \n",
       "11  35c99bab-7b68-7ebf-b28c-0d64132a2489   \n",
       "12  35c99bab-7b68-7ebf-b28c-0d64132a2489   \n",
       "13  2e70f4af-edfc-e9f5-8ce6-72f27f208b20   \n",
       "14  12a0bc30-c95b-ab52-1d7a-e73baaf2274d   \n",
       "15  d964e925-a212-7649-cec9-9b19642e399e   \n",
       "16  d964e925-a212-7649-cec9-9b19642e399e   \n",
       "17  80ae6677-47e5-0624-158d-5742efe749ec   \n",
       "18  80ae6677-47e5-0624-158d-5742efe749ec   \n",
       "19  3f74b007-7928-5c78-4909-6537a932e629   \n",
       "\n",
       "                             education_field_of_study             Class  \\\n",
       "0                                             English             Other   \n",
       "1                                    English, History             Other   \n",
       "2   Electrical, Electronics and Communications Eng...  Computer Science   \n",
       "3                                   Political Science  Computer Science   \n",
       "4   Computer Science (Informations Systems Special...  Computer Science   \n",
       "5                                    Computer Science  Computer Science   \n",
       "6                                             Finance           Finance   \n",
       "7                              Chemistry and Business             Other   \n",
       "8                              Electrical Engineering  Computer Science   \n",
       "9                                             Biology           Biology   \n",
       "10                                   Computer Science  Computer Science   \n",
       "11                             Electrical Engineering  Computer Science   \n",
       "12                   Electrical Engineering & English             Other   \n",
       "13                                         Accounting           Finance   \n",
       "14                                        Linguistics             Other   \n",
       "15                                       Biochemistry           Biology   \n",
       "16                                       Biochemistry           Biology   \n",
       "17  Center for Civic Media and the Computing Cultu...             Other   \n",
       "18  Interdisciplinary Computing in the Arts & Musi...  Computer Science   \n",
       "19                             Electrical Engineering  Computer Science   \n",
       "\n",
       "        top1      top2  \n",
       "0   0.201535  0.198198  \n",
       "1   0.145493  0.142640  \n",
       "2   0.446723  0.250942  \n",
       "3   0.395413  0.278185  \n",
       "4   0.694438  0.363370  \n",
       "5   1.000000  0.256522  \n",
       "6   1.000000  0.256522  \n",
       "7   0.349468  0.291982  \n",
       "8   0.381583  0.193875  \n",
       "9   1.000000  0.236289  \n",
       "10  1.000000  0.256522  \n",
       "11  0.381583  0.193875  \n",
       "12  0.312056  0.124993  \n",
       "13  0.526841  0.401748  \n",
       "14  0.225372  0.145388  \n",
       "15  0.618671  0.222753  \n",
       "16  0.618671  0.222753  \n",
       "17  0.275022  0.257848  \n",
       "18  0.623623  0.232120  \n",
       "19  0.381583  0.193875  "
      ]
     },
     "execution_count": 12,
     "metadata": {},
     "output_type": "execute_result"
    }
   ],
   "source": [
    "df.head(20)"
   ]
  },
  {
   "cell_type": "code",
   "execution_count": 14,
   "id": "968da294-e851-4580-aa3c-4b3561ffd760",
   "metadata": {},
   "outputs": [
    {
     "data": {
      "text/plain": [
       "Other               867\n",
       "Finance             592\n",
       "Computer Science    559\n",
       "Management          350\n",
       "Biology             254\n",
       "Name: Class, dtype: int64"
      ]
     },
     "execution_count": 14,
     "metadata": {},
     "output_type": "execute_result"
    }
   ],
   "source": [
    "df['Class'].value_counts()"
   ]
  },
  {
   "cell_type": "code",
   "execution_count": 43,
   "id": "3f0c4557-bdb9-442e-a4d0-c8ea44b3041c",
   "metadata": {},
   "outputs": [
    {
     "data": {
      "image/png": "[encoded data removed]",
      "text/plain": [
       "<Figure size 720x432 with 1 Axes>"
      ]
     },
     "metadata": {
      "needs_background": "light"
     },
     "output_type": "display_data"
    }
   ],
   "source": [
    "plt.figure(figsize=(10,6))\n",
    "plt.title('Top 1 and top 2 semilarity metric')\n",
    "df['top1'].hist(bins=20, color='r', alpha=0.3, label='top 1')\n",
    "df['top2'].hist(bins=20, color='b', alpha=0.3, label='top 2')\n",
    "plt.xlim(0, 1)\n",
    "plt.legend()\n",
    "plt.show()"
   ]
  },
  {
   "cell_type": "code",
   "execution_count": null,
   "id": "eed96780-eb6b-4b65-a9a5-522b864d29a9",
   "metadata": {},
   "outputs": [],
   "source": []
  }
 ],
 "metadata": {
  "kernelspec": {
   "display_name": "Python 3",
   "language": "python",
   "name": "python3"
  },
  "language_info": {
   "codemirror_mode": {
    "name": "ipython",
    "version": 3
   },
   "file_extension": ".py",
   "mimetype": "text/x-python",
   "name": "python",
   "nbconvert_exporter": "python",
   "pygments_lexer": "ipython3",
   "version": "3.8.8"
  }
 },
 "nbformat": 4,
 "nbformat_minor": 5
}
