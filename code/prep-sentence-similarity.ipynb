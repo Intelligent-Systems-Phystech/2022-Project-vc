{
 "cells": [
  {
   "cell_type": "raw",
   "id": "12a40e3b-e2a9-4bc5-9c57-9155725798da",
   "metadata": {},
   "source": [
    "pip install -U sentence-transformers"
   ]
  },
  {
   "cell_type": "code",
   "execution_count": 4,
   "id": "a40865ff-24b9-4315-b667-d94110bd18ed",
   "metadata": {},
   "outputs": [],
   "source": [
    "import pandas as pd\n",
    "import numpy as np\n",
    "import plotly.express as px\n",
    "import copy\n",
    "import datetime"
   ]
  },
  {
   "cell_type": "markdown",
   "id": "6b8f9960-c426-43fe-96fc-4a16162fed0f",
   "metadata": {},
   "source": [
    "# Классификация строк "
   ]
  },
  {
   "cell_type": "code",
   "execution_count": 5,
   "id": "6967b313-596b-46cf-83fd-9e6555a4dd4c",
   "metadata": {},
   "outputs": [
    {
     "name": "stdout",
     "output_type": "stream",
     "text": [
      "2022-03-14 00:11:26.507253\n"
     ]
    }
   ],
   "source": [
    "print(datetime.datetime.now())"
   ]
  },
  {
   "cell_type": "markdown",
   "id": "d8966305-be05-4f1c-aa3d-852cbdca4915",
   "metadata": {},
   "source": [
    "## JSON to DataFrame"
   ]
  },
  {
   "cell_type": "code",
   "execution_count": null,
   "id": "1e64f61a-9bf8-490c-abe2-fde1f6b6eaa2",
   "metadata": {},
   "outputs": [],
   "source": [
    "!python data.py"
   ]
  },
  {
   "cell_type": "markdown",
   "id": "84992fe4-25e3-44ab-be65-5a682e98f334",
   "metadata": {},
   "source": [
    "## Данные"
   ]
  },
  {
   "cell_type": "code",
   "execution_count": 8,
   "id": "41a28a33-d05c-4d93-91a7-a507c06a0736",
   "metadata": {},
   "outputs": [],
   "source": [
    "df_education = pd.read_csv('data/uuid_x_education_fields.csv', index_col=0)\n",
    "df_education = df_education[~df_education['education_field_of_study'].isna()][['org_uuid', 'education_field_of_study']]"
   ]
  },
  {
   "cell_type": "code",
   "execution_count": 9,
   "id": "528fa885-6c38-4b49-b38c-4a121b375693",
   "metadata": {},
   "outputs": [
    {
     "data": {
      "text/html": [
       "<div>\n",
       "<style scoped>\n",
       "    .dataframe tbody tr th:only-of-type {\n",
       "        vertical-align: middle;\n",
       "    }\n",
       "\n",
       "    .dataframe tbody tr th {\n",
       "        vertical-align: top;\n",
       "    }\n",
       "\n",
       "    .dataframe thead th {\n",
       "        text-align: right;\n",
       "    }\n",
       "</style>\n",
       "<table border=\"1\" class=\"dataframe\">\n",
       "  <thead>\n",
       "    <tr style=\"text-align: right;\">\n",
       "      <th></th>\n",
       "      <th>org_uuid</th>\n",
       "      <th>education_field_of_study</th>\n",
       "    </tr>\n",
       "  </thead>\n",
       "  <tbody>\n",
       "    <tr>\n",
       "      <th>0</th>\n",
       "      <td>438c7e89-ba0c-b8cc-7ea6-1a0ac47ae40d</td>\n",
       "      <td>English</td>\n",
       "    </tr>\n",
       "    <tr>\n",
       "      <th>0</th>\n",
       "      <td>438c7e89-ba0c-b8cc-7ea6-1a0ac47ae40d</td>\n",
       "      <td>English, History</td>\n",
       "    </tr>\n",
       "    <tr>\n",
       "      <th>0</th>\n",
       "      <td>b37187f2-8ad4-8225-cfa2-2757f2ef9bc4</td>\n",
       "      <td>Electrical, Electronics and Communications Eng...</td>\n",
       "    </tr>\n",
       "    <tr>\n",
       "      <th>0</th>\n",
       "      <td>46c990f6-e14d-3cfe-0bba-a95a6692cfad</td>\n",
       "      <td>Political Science</td>\n",
       "    </tr>\n",
       "    <tr>\n",
       "      <th>0</th>\n",
       "      <td>46a7242e-ff55-5748-a6d3-207bef892d3e</td>\n",
       "      <td>Computer Science (Informations Systems Special...</td>\n",
       "    </tr>\n",
       "    <tr>\n",
       "      <th>...</th>\n",
       "      <td>...</td>\n",
       "      <td>...</td>\n",
       "    </tr>\n",
       "    <tr>\n",
       "      <th>0</th>\n",
       "      <td>e7d48747-e528-42a1-94d6-3f4c1e7d586a</td>\n",
       "      <td>Pure Mathematics</td>\n",
       "    </tr>\n",
       "    <tr>\n",
       "      <th>0</th>\n",
       "      <td>3705f9f3-a94d-f2cc-e8a8-acd750ea60fd</td>\n",
       "      <td>Chemistry</td>\n",
       "    </tr>\n",
       "    <tr>\n",
       "      <th>0</th>\n",
       "      <td>3705f9f3-a94d-f2cc-e8a8-acd750ea60fd</td>\n",
       "      <td>Physical Chemistry</td>\n",
       "    </tr>\n",
       "    <tr>\n",
       "      <th>0</th>\n",
       "      <td>3a372b39-86d8-a24e-9fea-3be65013b476</td>\n",
       "      <td>Political Behavior</td>\n",
       "    </tr>\n",
       "    <tr>\n",
       "      <th>0</th>\n",
       "      <td>8754aa07-6a53-aea5-fd0a-6f82c9191d1d</td>\n",
       "      <td>Computer Science (1st class)</td>\n",
       "    </tr>\n",
       "  </tbody>\n",
       "</table>\n",
       "<p>2622 rows × 2 columns</p>\n",
       "</div>"
      ],
      "text/plain": [
       "                                org_uuid  \\\n",
       "0   438c7e89-ba0c-b8cc-7ea6-1a0ac47ae40d   \n",
       "0   438c7e89-ba0c-b8cc-7ea6-1a0ac47ae40d   \n",
       "0   b37187f2-8ad4-8225-cfa2-2757f2ef9bc4   \n",
       "0   46c990f6-e14d-3cfe-0bba-a95a6692cfad   \n",
       "0   46a7242e-ff55-5748-a6d3-207bef892d3e   \n",
       "..                                   ...   \n",
       "0   e7d48747-e528-42a1-94d6-3f4c1e7d586a   \n",
       "0   3705f9f3-a94d-f2cc-e8a8-acd750ea60fd   \n",
       "0   3705f9f3-a94d-f2cc-e8a8-acd750ea60fd   \n",
       "0   3a372b39-86d8-a24e-9fea-3be65013b476   \n",
       "0   8754aa07-6a53-aea5-fd0a-6f82c9191d1d   \n",
       "\n",
       "                             education_field_of_study  \n",
       "0                                             English  \n",
       "0                                    English, History  \n",
       "0   Electrical, Electronics and Communications Eng...  \n",
       "0                                   Political Science  \n",
       "0   Computer Science (Informations Systems Special...  \n",
       "..                                                ...  \n",
       "0                                    Pure Mathematics  \n",
       "0                                           Chemistry  \n",
       "0                                  Physical Chemistry  \n",
       "0                                  Political Behavior  \n",
       "0                        Computer Science (1st class)  \n",
       "\n",
       "[2622 rows x 2 columns]"
      ]
     },
     "execution_count": 9,
     "metadata": {},
     "output_type": "execute_result"
    }
   ],
   "source": [
    "df_education"
   ]
  },
  {
   "cell_type": "markdown",
   "id": "ed52fa97-5370-4c80-9deb-80f1a60f6b9a",
   "metadata": {},
   "source": [
    "## sentence-transformers/multi-qa-MiniLM-L6-cos-v1"
   ]
  },
  {
   "cell_type": "code",
   "execution_count": 1,
   "id": "401ed0bb-fa3d-49d9-9a5c-c2c702c5254f",
   "metadata": {},
   "outputs": [
    {
     "data": {
      "application/vnd.jupyter.widget-view+json": {
       "model_id": "8ae3e31489084b32972575e0fe7c9b47",
       "version_major": 2,
       "version_minor": 0
      },
      "text/plain": [
       "Downloading:   0%|          | 0.00/737 [00:00<?, ?B/s]"
      ]
     },
     "metadata": {},
     "output_type": "display_data"
    },
    {
     "data": {
      "application/vnd.jupyter.widget-view+json": {
       "model_id": "89c0cada9dba43a7bfc29879c8d64933",
       "version_major": 2,
       "version_minor": 0
      },
      "text/plain": [
       "Downloading:   0%|          | 0.00/9.22k [00:00<?, ?B/s]"
      ]
     },
     "metadata": {},
     "output_type": "display_data"
    },
    {
     "data": {
      "application/vnd.jupyter.widget-view+json": {
       "model_id": "23ff15a4348c469aa698d11fa3c16311",
       "version_major": 2,
       "version_minor": 0
      },
      "text/plain": [
       "Downloading:   0%|          | 0.00/612 [00:00<?, ?B/s]"
      ]
     },
     "metadata": {},
     "output_type": "display_data"
    },
    {
     "data": {
      "application/vnd.jupyter.widget-view+json": {
       "model_id": "1b0a4ca5713245ed8ac75e9dca808c81",
       "version_major": 2,
       "version_minor": 0
      },
      "text/plain": [
       "Downloading:   0%|          | 0.00/116 [00:00<?, ?B/s]"
      ]
     },
     "metadata": {},
     "output_type": "display_data"
    },
    {
     "data": {
      "application/vnd.jupyter.widget-view+json": {
       "model_id": "8599d5f1c59846849c3c9f9e6f396ee2",
       "version_major": 2,
       "version_minor": 0
      },
      "text/plain": [
       "Downloading:   0%|          | 0.00/25.5k [00:00<?, ?B/s]"
      ]
     },
     "metadata": {},
     "output_type": "display_data"
    },
    {
     "data": {
      "application/vnd.jupyter.widget-view+json": {
       "model_id": "6ff833b7d30943da9bde5c19125cbe87",
       "version_major": 2,
       "version_minor": 0
      },
      "text/plain": [
       "Downloading:   0%|          | 0.00/349 [00:00<?, ?B/s]"
      ]
     },
     "metadata": {},
     "output_type": "display_data"
    },
    {
     "data": {
      "application/vnd.jupyter.widget-view+json": {
       "model_id": "51a12a982ff4418b87e126029ed91bd8",
       "version_major": 2,
       "version_minor": 0
      },
      "text/plain": [
       "Downloading:   0%|          | 0.00/90.9M [00:00<?, ?B/s]"
      ]
     },
     "metadata": {},
     "output_type": "display_data"
    },
    {
     "data": {
      "application/vnd.jupyter.widget-view+json": {
       "model_id": "fff822834dae4ad293bd76cbe925efac",
       "version_major": 2,
       "version_minor": 0
      },
      "text/plain": [
       "Downloading:   0%|          | 0.00/53.0 [00:00<?, ?B/s]"
      ]
     },
     "metadata": {},
     "output_type": "display_data"
    },
    {
     "data": {
      "application/vnd.jupyter.widget-view+json": {
       "model_id": "2b077c00dbb540c1b1b8f275042c8a8e",
       "version_major": 2,
       "version_minor": 0
      },
      "text/plain": [
       "Downloading:   0%|          | 0.00/112 [00:00<?, ?B/s]"
      ]
     },
     "metadata": {},
     "output_type": "display_data"
    },
    {
     "data": {
      "application/vnd.jupyter.widget-view+json": {
       "model_id": "32146548f9b043768b1b4a9d017798c3",
       "version_major": 2,
       "version_minor": 0
      },
      "text/plain": [
       "Downloading:   0%|          | 0.00/466k [00:00<?, ?B/s]"
      ]
     },
     "metadata": {},
     "output_type": "display_data"
    },
    {
     "data": {
      "application/vnd.jupyter.widget-view+json": {
       "model_id": "44072e082473421ab2075a996a45fd32",
       "version_major": 2,
       "version_minor": 0
      },
      "text/plain": [
       "Downloading:   0%|          | 0.00/383 [00:00<?, ?B/s]"
      ]
     },
     "metadata": {},
     "output_type": "display_data"
    },
    {
     "data": {
      "application/vnd.jupyter.widget-view+json": {
       "model_id": "e20a5a8fd03b46218c15e00cd476d63f",
       "version_major": 2,
       "version_minor": 0
      },
      "text/plain": [
       "Downloading:   0%|          | 0.00/13.8k [00:00<?, ?B/s]"
      ]
     },
     "metadata": {},
     "output_type": "display_data"
    },
    {
     "data": {
      "application/vnd.jupyter.widget-view+json": {
       "model_id": "77a2a41b5b7a4ad8aabd0ce1639663a7",
       "version_major": 2,
       "version_minor": 0
      },
      "text/plain": [
       "Downloading:   0%|          | 0.00/232k [00:00<?, ?B/s]"
      ]
     },
     "metadata": {},
     "output_type": "display_data"
    },
    {
     "data": {
      "application/vnd.jupyter.widget-view+json": {
       "model_id": "994243cd4b4943e7a504c685a4cbb6c3",
       "version_major": 2,
       "version_minor": 0
      },
      "text/plain": [
       "Downloading:   0%|          | 0.00/190 [00:00<?, ?B/s]"
      ]
     },
     "metadata": {},
     "output_type": "display_data"
    },
    {
     "name": "stdout",
     "output_type": "stream",
     "text": [
      "0.5836783647537231 Computer Science\n",
      "0.26721814274787903 Management\n",
      "0.1077067106962204 Finance\n",
      "0.10100103169679642 Biology\n"
     ]
    }
   ],
   "source": [
    "from sentence_transformers import SentenceTransformer, util\n",
    "query = \"Machine Learning\"\n",
    "docs = [\"Biology\", \"Computer Science\", \"Management\", \"Finance\"]\n",
    "\n",
    "#Load the model\n",
    "model = SentenceTransformer('sentence-transformers/multi-qa-MiniLM-L6-cos-v1')\n",
    "\n",
    "for i, row in enumerate(df_education):\n",
    "    \n",
    "    #Encode query and documents\n",
    "    query_emb = model.encode(query)\n",
    "    doc_emb = model.encode(docs)\n",
    "\n",
    "    #Compute dot score between query and all document embeddings\n",
    "    scores = util.dot_score(query_emb, doc_emb)[0].cpu().tolist()\n",
    "\n",
    "    #Combine docs & scores\n",
    "    doc_score_pairs = list(zip(docs, scores))\n",
    "\n",
    "    #Sort by decreasing score\n",
    "    doc_score_pairs = sorted(doc_score_pairs, key=lambda x: x[1], reverse=True)\n",
    "\n",
    "    #Output passages & scores\n",
    "    for doc, score in doc_score_pairs:\n",
    "        print(score, doc)"
   ]
  },
  {
   "cell_type": "code",
   "execution_count": null,
   "id": "df3bbec6-4f85-4f12-9e3e-bbba765e1364",
   "metadata": {},
   "outputs": [],
   "source": []
  },
  {
   "cell_type": "code",
   "execution_count": null,
   "id": "d13d6b6a-8e6b-46e9-b372-c9a3a038a12e",
   "metadata": {},
   "outputs": [],
   "source": []
  }
 ],
 "metadata": {
  "kernelspec": {
   "display_name": "Python 3",
   "language": "python",
   "name": "python3"
  },
  "language_info": {
   "codemirror_mode": {
    "name": "ipython",
    "version": 3
   },
   "file_extension": ".py",
   "mimetype": "text/x-python",
   "name": "python",
   "nbconvert_exporter": "python",
   "pygments_lexer": "ipython3",
   "version": "3.8.8"
  }
 },
 "nbformat": 4,
 "nbformat_minor": 5
}
